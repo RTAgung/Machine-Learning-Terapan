{
  "cells": [
    {
      "cell_type": "markdown",
      "metadata": {
        "id": "0QN374n_c47r"
      },
      "source": [
        "# Import Library"
      ]
    },
    {
      "cell_type": "code",
      "execution_count": 1,
      "metadata": {
        "id": "2480FZnKc2lL"
      },
      "outputs": [],
      "source": [
        "import numpy as np\n",
        "import pandas as pd\n",
        "import os\n",
        "\n",
        "import matplotlib.pyplot as plt\n",
        "import seaborn as sns\n",
        "\n",
        "import tensorflow as tf\n",
        "\n",
        "%matplotlib inline"
      ]
    },
    {
      "cell_type": "markdown",
      "metadata": {
        "id": "Htt-YeXuhfJe"
      },
      "source": [
        "# Load Data"
      ]
    },
    {
      "cell_type": "markdown",
      "metadata": {
        "id": "woOJkm3XZXAI"
      },
      "source": [
        "### Download data"
      ]
    },
    {
      "cell_type": "code",
      "execution_count": null,
      "metadata": {
        "id": "87G71vZ2hGqG"
      },
      "outputs": [],
      "source": [
        "os.remove('anime-recommendation-database-2020.zip')\n",
        "! kaggle datasets download -d hernan4444/anime-recommendation-database-2020"
      ]
    },
    {
      "cell_type": "markdown",
      "metadata": {
        "id": "VUAofX0cZXAJ"
      },
      "source": [
        "### Read CSV"
      ]
    },
    {
      "cell_type": "code",
      "execution_count": null,
      "metadata": {
        "id": "r5uJHhZzcc-R"
      },
      "outputs": [],
      "source": [
        "# data source: https://www.kaggle.com/datasets/hernan4444/anime-recommendation-database-2020\n",
        "\n",
        "path_anime = 'data/anime.csv'\n",
        "path_animelist_user = 'data/animelist.csv'\n",
        "path_rating = 'data/rating_complete.csv'\n",
        "path_status = 'data/watching_status.csv'\n",
        "\n",
        "anime = pd.read_csv(path_anime)\n",
        "animelist_user = pd.read_csv(path_animelist_user)\n",
        "rating = pd.read_csv(path_rating)\n",
        "status = pd.read_csv(path_status)"
      ]
    },
    {
      "cell_type": "markdown",
      "metadata": {
        "id": "jwJNyljEjyuV"
      },
      "source": [
        "# Data Understanding"
      ]
    },
    {
      "cell_type": "markdown",
      "metadata": {
        "id": "L8xIRBlQk6Qn"
      },
      "source": [
        "Macam-macam file yang ada:\n",
        "- `anime.csv` contain general information of every anime (17.562 different anime) like genre, stats, studio, etc.\n",
        "- `animelist.csv` have the list of all animes register by the user with the respective score, watching status and numbers of episodes watched. This dataset contains 109 Million row, 17.562 different animes and 325.772 different users.\n",
        "- `rating_complete.csv` is a subset of animelist.csv. This dataset only considers animes that the user has watched completely (watching_status==2) and gave it a score (score!=0). This dataset contains 57 Million ratings applied to 16.872 animes by 310.059 users.\n",
        "- `watching_status.csv` describe every possible status of the column: \"watching_status\" in animelist.csv."
      ]
    },
    {
      "cell_type": "code",
      "execution_count": null,
      "metadata": {
        "colab": {
          "base_uri": "https://localhost:8080/"
        },
        "id": "ooJLUs5Hcloz",
        "outputId": "b2baf092-2cc7-4db1-b0a5-f78f361e2f3f"
      },
      "outputs": [
        {
          "name": "stdout",
          "output_type": "stream",
          "text": [
            "Jumlah data anime:  17562\n",
            "Jumlah data list anime dengan user:  109224747\n",
            "Jumlah data rating anime:  57633278\n",
            "Jumlah data status user:  5\n"
          ]
        }
      ],
      "source": [
        "print('Jumlah data anime: ', len(anime))\n",
        "print('Jumlah data list anime dengan user: ', len(animelist_user))\n",
        "print('Jumlah data rating anime: ', len(rating))\n",
        "print('Jumlah data status user: ', len(status))"
      ]
    },
    {
      "cell_type": "markdown",
      "metadata": {
        "id": "nhIRMfibrHc_"
      },
      "source": [
        "### Analisis data pada anime.csv"
      ]
    },
    {
      "cell_type": "code",
      "execution_count": null,
      "metadata": {
        "colab": {
          "base_uri": "https://localhost:8080/"
        },
        "id": "bcdD2-EIkE_c",
        "outputId": "cedbe92a-c491-4c0c-9905-d0e4968a32bf"
      },
      "outputs": [
        {
          "name": "stdout",
          "output_type": "stream",
          "text": [
            "<class 'pandas.core.frame.DataFrame'>\n",
            "RangeIndex: 17562 entries, 0 to 17561\n",
            "Data columns (total 35 columns):\n",
            " #   Column         Non-Null Count  Dtype \n",
            "---  ------         --------------  ----- \n",
            " 0   MAL_ID         17562 non-null  int64 \n",
            " 1   Name           17562 non-null  object\n",
            " 2   Score          17562 non-null  object\n",
            " 3   Genres         17562 non-null  object\n",
            " 4   English name   17562 non-null  object\n",
            " 5   Japanese name  17562 non-null  object\n",
            " 6   Type           17562 non-null  object\n",
            " 7   Episodes       17562 non-null  object\n",
            " 8   Aired          17562 non-null  object\n",
            " 9   Premiered      17562 non-null  object\n",
            " 10  Producers      17562 non-null  object\n",
            " 11  Licensors      17562 non-null  object\n",
            " 12  Studios        17562 non-null  object\n",
            " 13  Source         17562 non-null  object\n",
            " 14  Duration       17562 non-null  object\n",
            " 15  Rating         17562 non-null  object\n",
            " 16  Ranked         17562 non-null  object\n",
            " 17  Popularity     17562 non-null  int64 \n",
            " 18  Members        17562 non-null  int64 \n",
            " 19  Favorites      17562 non-null  int64 \n",
            " 20  Watching       17562 non-null  int64 \n",
            " 21  Completed      17562 non-null  int64 \n",
            " 22  On-Hold        17562 non-null  int64 \n",
            " 23  Dropped        17562 non-null  int64 \n",
            " 24  Plan to Watch  17562 non-null  int64 \n",
            " 25  Score-10       17562 non-null  object\n",
            " 26  Score-9        17562 non-null  object\n",
            " 27  Score-8        17562 non-null  object\n",
            " 28  Score-7        17562 non-null  object\n",
            " 29  Score-6        17562 non-null  object\n",
            " 30  Score-5        17562 non-null  object\n",
            " 31  Score-4        17562 non-null  object\n",
            " 32  Score-3        17562 non-null  object\n",
            " 33  Score-2        17562 non-null  object\n",
            " 34  Score-1        17562 non-null  object\n",
            "dtypes: int64(9), object(26)\n",
            "memory usage: 4.7+ MB\n"
          ]
        }
      ],
      "source": [
        "anime.info()"
      ]
    },
    {
      "cell_type": "code",
      "execution_count": null,
      "metadata": {
        "colab": {
          "base_uri": "https://localhost:8080/"
        },
        "id": "A0IBn7mprOgX",
        "outputId": "532a69fb-e758-4ae3-f915-ac7ad568c837"
      },
      "outputs": [
        {
          "name": "stdout",
          "output_type": "stream",
          "text": [
            "Jumlah anime: 17562\n"
          ]
        }
      ],
      "source": [
        "print(\"Jumlah anime:\", len(anime.MAL_ID.unique()))"
      ]
    },
    {
      "cell_type": "markdown",
      "metadata": {
        "id": "Cdm3ThUpsDe6"
      },
      "source": [
        "cek data null"
      ]
    },
    {
      "cell_type": "code",
      "execution_count": null,
      "metadata": {
        "colab": {
          "base_uri": "https://localhost:8080/"
        },
        "id": "QnAYm95kr2ft",
        "outputId": "3eaae13c-de87-4feb-d8fe-b7e289dfa43e"
      },
      "outputs": [
        {
          "data": {
            "text/plain": [
              "MAL_ID           0\n",
              "Name             0\n",
              "Score            0\n",
              "Genres           0\n",
              "English name     0\n",
              "Japanese name    0\n",
              "Type             0\n",
              "Episodes         0\n",
              "Aired            0\n",
              "Premiered        0\n",
              "Producers        0\n",
              "Licensors        0\n",
              "Studios          0\n",
              "Source           0\n",
              "Duration         0\n",
              "Rating           0\n",
              "Ranked           0\n",
              "Popularity       0\n",
              "Members          0\n",
              "Favorites        0\n",
              "Watching         0\n",
              "Completed        0\n",
              "On-Hold          0\n",
              "Dropped          0\n",
              "Plan to Watch    0\n",
              "Score-10         0\n",
              "Score-9          0\n",
              "Score-8          0\n",
              "Score-7          0\n",
              "Score-6          0\n",
              "Score-5          0\n",
              "Score-4          0\n",
              "Score-3          0\n",
              "Score-2          0\n",
              "Score-1          0\n",
              "dtype: int64"
            ]
          },
          "execution_count": 6,
          "metadata": {},
          "output_type": "execute_result"
        }
      ],
      "source": [
        "anime.isnull().sum()"
      ]
    },
    {
      "cell_type": "markdown",
      "metadata": {
        "id": "jHD4WsZvsM9a"
      },
      "source": [
        "cek duplicated data"
      ]
    },
    {
      "cell_type": "code",
      "execution_count": null,
      "metadata": {
        "colab": {
          "base_uri": "https://localhost:8080/"
        },
        "id": "tVecLWp4sJaM",
        "outputId": "3835c0e4-bb02-4115-c373-1ac3469c4656"
      },
      "outputs": [
        {
          "data": {
            "text/plain": [
              "0"
            ]
          },
          "execution_count": 7,
          "metadata": {},
          "output_type": "execute_result"
        }
      ],
      "source": [
        "anime.duplicated().sum()"
      ]
    },
    {
      "cell_type": "markdown",
      "metadata": {
        "id": "2f_hWuMisp-E"
      },
      "source": [
        "cek data pada genre anime"
      ]
    },
    {
      "cell_type": "code",
      "execution_count": null,
      "metadata": {
        "colab": {
          "base_uri": "https://localhost:8080/"
        },
        "id": "GNKKcWzrn7ps",
        "outputId": "b5a24c76-ed6f-48e2-ed1f-6d4520e01692"
      },
      "outputs": [
        {
          "name": "stdout",
          "output_type": "stream",
          "text": [
            "Jumlah genre: 44\n",
            "List genre: ['Action', 'Adventure', 'Cars', 'Comedy', 'Dementia', 'Demons', 'Drama', 'Ecchi', 'Fantasy', 'Game', 'Harem', 'Hentai', 'Historical', 'Horror', 'Josei', 'Kids', 'Magic', 'Martial Arts', 'Mecha', 'Military', 'Music', 'Mystery', 'Parody', 'Police', 'Psychological', 'Romance', 'Samurai', 'School', 'Sci-Fi', 'Seinen', 'Shoujo', 'Shoujo Ai', 'Shounen', 'Shounen Ai', 'Slice of Life', 'Space', 'Sports', 'Super Power', 'Supernatural', 'Thriller', 'Unknown', 'Vampire', 'Yaoi', 'Yuri']\n"
          ]
        }
      ],
      "source": [
        "all_genres = []\n",
        "anime_genres = anime.Genres.unique()\n",
        "\n",
        "for i, v in enumerate(anime_genres):\n",
        "  all_genres.extend(v.split(', '))\n",
        "\n",
        "all_genres = sorted(set(all_genres))\n",
        "\n",
        "print(\"Jumlah genre:\", len(all_genres))\n",
        "print(\"List genre:\", all_genres)"
      ]
    },
    {
      "cell_type": "code",
      "execution_count": null,
      "metadata": {
        "id": "PohLHpGisr3i"
      },
      "outputs": [],
      "source": [
        "total_genre_by_anime = {g: 0 for g in all_genres}\n",
        "\n",
        "for anime_genre in anime['Genres']:\n",
        "  list_anime_genre = anime_genre.split(', ')\n",
        "  for genre in list_anime_genre:\n",
        "    total_genre_by_anime[genre] = total_genre_by_anime[genre] + 1\n",
        "\n",
        "total_genre_by_anime = dict(sorted(total_genre_by_anime.items(), key=lambda x:x[1], reverse=True))"
      ]
    },
    {
      "cell_type": "code",
      "execution_count": null,
      "metadata": {
        "colab": {
          "base_uri": "https://localhost:8080/",
          "height": 665
        },
        "id": "xVG7553Uu5k5",
        "outputId": "d3a779a0-05cc-49c4-a9e8-fece16d1715d"
      },
      "outputs": [
        {
          "data": {
            "image/png": "[encoded data removed]",
            "text/plain": [
              "<Figure size 1296x720 with 1 Axes>"
            ]
          },
          "metadata": {
            "needs_background": "light"
          },
          "output_type": "display_data"
        }
      ],
      "source": [
        "plt.figure(figsize=(18,10))\n",
        "sns.barplot(x = list(total_genre_by_anime.keys()),\n",
        "            y = list(total_genre_by_anime.values()))\n",
        "plt.xticks(rotation=90)\n",
        "plt.title(\"Diagram Top Genre Seluruh Anime\")\n",
        "plt.show()"
      ]
    },
    {
      "cell_type": "code",
      "execution_count": null,
      "metadata": {
        "colab": {
          "base_uri": "https://localhost:8080/",
          "height": 363
        },
        "id": "7xnzMtg6wJVC",
        "outputId": "d67e20d1-3b55-4a0e-ba17-5e8429fd4c88"
      },
      "outputs": [
        {
          "data": {
            "text/html": [
              "<div>\n",
              "<style scoped>\n",
              "    .dataframe tbody tr th:only-of-type {\n",
              "        vertical-align: middle;\n",
              "    }\n",
              "\n",
              "    .dataframe tbody tr th {\n",
              "        vertical-align: top;\n",
              "    }\n",
              "\n",
              "    .dataframe thead th {\n",
              "        text-align: right;\n",
              "    }\n",
              "</style>\n",
              "<table border=\"1\" class=\"dataframe\">\n",
              "  <thead>\n",
              "    <tr style=\"text-align: right;\">\n",
              "      <th></th>\n",
              "      <th>Genre</th>\n",
              "      <th>Total</th>\n",
              "    </tr>\n",
              "  </thead>\n",
              "  <tbody>\n",
              "    <tr>\n",
              "      <th>0</th>\n",
              "      <td>Comedy</td>\n",
              "      <td>6029</td>\n",
              "    </tr>\n",
              "    <tr>\n",
              "      <th>1</th>\n",
              "      <td>Action</td>\n",
              "      <td>3888</td>\n",
              "    </tr>\n",
              "    <tr>\n",
              "      <th>2</th>\n",
              "      <td>Fantasy</td>\n",
              "      <td>3285</td>\n",
              "    </tr>\n",
              "    <tr>\n",
              "      <th>3</th>\n",
              "      <td>Adventure</td>\n",
              "      <td>2957</td>\n",
              "    </tr>\n",
              "    <tr>\n",
              "      <th>4</th>\n",
              "      <td>Kids</td>\n",
              "      <td>2665</td>\n",
              "    </tr>\n",
              "    <tr>\n",
              "      <th>5</th>\n",
              "      <td>Drama</td>\n",
              "      <td>2619</td>\n",
              "    </tr>\n",
              "    <tr>\n",
              "      <th>6</th>\n",
              "      <td>Sci-Fi</td>\n",
              "      <td>2583</td>\n",
              "    </tr>\n",
              "    <tr>\n",
              "      <th>7</th>\n",
              "      <td>Music</td>\n",
              "      <td>2244</td>\n",
              "    </tr>\n",
              "    <tr>\n",
              "      <th>8</th>\n",
              "      <td>Shounen</td>\n",
              "      <td>2003</td>\n",
              "    </tr>\n",
              "    <tr>\n",
              "      <th>9</th>\n",
              "      <td>Slice of Life</td>\n",
              "      <td>1914</td>\n",
              "    </tr>\n",
              "  </tbody>\n",
              "</table>\n",
              "</div>"
            ],
            "text/plain": [
              "           Genre  Total\n",
              "0         Comedy   6029\n",
              "1         Action   3888\n",
              "2        Fantasy   3285\n",
              "3      Adventure   2957\n",
              "4           Kids   2665\n",
              "5          Drama   2619\n",
              "6         Sci-Fi   2583\n",
              "7          Music   2244\n",
              "8        Shounen   2003\n",
              "9  Slice of Life   1914"
            ]
          },
          "execution_count": 11,
          "metadata": {},
          "output_type": "execute_result"
        }
      ],
      "source": [
        "# top 10 genre\n",
        "pd.DataFrame({\n",
        "    \"Genre\": list(total_genre_by_anime.keys()),\n",
        "    \"Total\": list(total_genre_by_anime.values())\n",
        "}).head(10)"
      ]
    },
    {
      "cell_type": "markdown",
      "metadata": {
        "id": "nCj9IU_GrWAW"
      },
      "source": [
        "### Analisis data pada animelist.csv"
      ]
    },
    {
      "cell_type": "code",
      "execution_count": null,
      "metadata": {
        "colab": {
          "base_uri": "https://localhost:8080/"
        },
        "id": "BpRTGsfYkLem",
        "outputId": "ea9667c4-4ddb-4ed6-986c-ebb4eb5a5077"
      },
      "outputs": [
        {
          "name": "stdout",
          "output_type": "stream",
          "text": [
            "<class 'pandas.core.frame.DataFrame'>\n",
            "RangeIndex: 109224747 entries, 0 to 109224746\n",
            "Data columns (total 5 columns):\n",
            " #   Column            Dtype\n",
            "---  ------            -----\n",
            " 0   user_id           int64\n",
            " 1   anime_id          int64\n",
            " 2   rating            int64\n",
            " 3   watching_status   int64\n",
            " 4   watched_episodes  int64\n",
            "dtypes: int64(5)\n",
            "memory usage: 4.1 GB\n"
          ]
        }
      ],
      "source": [
        "animelist_user.info()"
      ]
    },
    {
      "cell_type": "markdown",
      "metadata": {
        "id": "s0LYfibjZXAQ"
      },
      "source": [
        "cek data null"
      ]
    },
    {
      "cell_type": "code",
      "execution_count": null,
      "metadata": {
        "id": "LJOWIMKhZXAQ",
        "outputId": "c7366bc2-8f5e-4229-abd9-bbbc919ee247"
      },
      "outputs": [
        {
          "data": {
            "text/plain": [
              "user_id             0\n",
              "anime_id            0\n",
              "rating              0\n",
              "watching_status     0\n",
              "watched_episodes    0\n",
              "dtype: int64"
            ]
          },
          "execution_count": 13,
          "metadata": {},
          "output_type": "execute_result"
        }
      ],
      "source": [
        "animelist_user.isnull().sum()"
      ]
    },
    {
      "cell_type": "markdown",
      "metadata": {
        "id": "XzJpQAA0ZXAQ"
      },
      "source": [
        "cek duplicated data"
      ]
    },
    {
      "cell_type": "code",
      "execution_count": null,
      "metadata": {
        "id": "zbpe4XCqZXAR",
        "outputId": "fdb736eb-e3d0-44a7-8b30-7e48ea19fddb"
      },
      "outputs": [
        {
          "data": {
            "text/plain": [
              "1"
            ]
          },
          "execution_count": 14,
          "metadata": {},
          "output_type": "execute_result"
        }
      ],
      "source": [
        "animelist_user.duplicated().sum()"
      ]
    },
    {
      "cell_type": "code",
      "execution_count": null,
      "metadata": {
        "colab": {
          "base_uri": "https://localhost:8080/"
        },
        "id": "IEHkQimbrdsp",
        "outputId": "80bb12c5-4499-46c9-8755-9438979d8a52"
      },
      "outputs": [
        {
          "name": "stdout",
          "output_type": "stream",
          "text": [
            "Jumlah aktivitas user terhadap anime: 325770\n",
            "Jumlah anime: 17562\n"
          ]
        }
      ],
      "source": [
        "print(\"Jumlah aktivitas user terhadap anime:\", len(animelist_user.user_id.unique()))\n",
        "print(\"Jumlah anime:\", len(animelist_user.anime_id.unique()))"
      ]
    },
    {
      "cell_type": "code",
      "execution_count": null,
      "metadata": {
        "colab": {
          "base_uri": "https://localhost:8080/"
        },
        "id": "9Fb3m1sb4JXn",
        "outputId": "6acef282-36b6-442f-9718-aa34e8316d90"
      },
      "outputs": [
        {
          "data": {
            "text/plain": [
              "[0, 1, 2, 3, 4, 5, 6, 7, 8, 9, 10]"
            ]
          },
          "execution_count": 16,
          "metadata": {},
          "output_type": "execute_result"
        }
      ],
      "source": [
        "sorted(animelist_user.rating.unique())"
      ]
    },
    {
      "cell_type": "code",
      "execution_count": null,
      "metadata": {
        "colab": {
          "base_uri": "https://localhost:8080/",
          "height": 394
        },
        "id": "NyqXIZAMzeL9",
        "outputId": "efb97c7d-30fc-4a7a-8c25-eacc29d2bcde"
      },
      "outputs": [
        {
          "data": {
            "text/html": [
              "<div>\n",
              "<style scoped>\n",
              "    .dataframe tbody tr th:only-of-type {\n",
              "        vertical-align: middle;\n",
              "    }\n",
              "\n",
              "    .dataframe tbody tr th {\n",
              "        vertical-align: top;\n",
              "    }\n",
              "\n",
              "    .dataframe thead th {\n",
              "        text-align: right;\n",
              "    }\n",
              "</style>\n",
              "<table border=\"1\" class=\"dataframe\">\n",
              "  <thead>\n",
              "    <tr style=\"text-align: right;\">\n",
              "      <th></th>\n",
              "      <th>Rating</th>\n",
              "      <th>Total</th>\n",
              "    </tr>\n",
              "  </thead>\n",
              "  <tbody>\n",
              "    <tr>\n",
              "      <th>0</th>\n",
              "      <td>0</td>\n",
              "      <td>46827035</td>\n",
              "    </tr>\n",
              "    <tr>\n",
              "      <th>1</th>\n",
              "      <td>8</td>\n",
              "      <td>15422150</td>\n",
              "    </tr>\n",
              "    <tr>\n",
              "      <th>2</th>\n",
              "      <td>7</td>\n",
              "      <td>14244633</td>\n",
              "    </tr>\n",
              "    <tr>\n",
              "      <th>3</th>\n",
              "      <td>9</td>\n",
              "      <td>10235934</td>\n",
              "    </tr>\n",
              "    <tr>\n",
              "      <th>4</th>\n",
              "      <td>6</td>\n",
              "      <td>7543377</td>\n",
              "    </tr>\n",
              "    <tr>\n",
              "      <th>5</th>\n",
              "      <td>10</td>\n",
              "      <td>7144392</td>\n",
              "    </tr>\n",
              "    <tr>\n",
              "      <th>6</th>\n",
              "      <td>5</td>\n",
              "      <td>4029645</td>\n",
              "    </tr>\n",
              "    <tr>\n",
              "      <th>7</th>\n",
              "      <td>4</td>\n",
              "      <td>1845854</td>\n",
              "    </tr>\n",
              "    <tr>\n",
              "      <th>8</th>\n",
              "      <td>3</td>\n",
              "      <td>905700</td>\n",
              "    </tr>\n",
              "    <tr>\n",
              "      <th>9</th>\n",
              "      <td>2</td>\n",
              "      <td>545339</td>\n",
              "    </tr>\n",
              "    <tr>\n",
              "      <th>10</th>\n",
              "      <td>1</td>\n",
              "      <td>480688</td>\n",
              "    </tr>\n",
              "  </tbody>\n",
              "</table>\n",
              "</div>"
            ],
            "text/plain": [
              "    Rating     Total\n",
              "0        0  46827035\n",
              "1        8  15422150\n",
              "2        7  14244633\n",
              "3        9  10235934\n",
              "4        6   7543377\n",
              "5       10   7144392\n",
              "6        5   4029645\n",
              "7        4   1845854\n",
              "8        3    905700\n",
              "9        2    545339\n",
              "10       1    480688"
            ]
          },
          "execution_count": 17,
          "metadata": {},
          "output_type": "execute_result"
        }
      ],
      "source": [
        "# top rating\n",
        "total_rating_user = animelist_user.rating.value_counts()\n",
        "pd.DataFrame({\n",
        "    \"Rating\": list(total_rating_user.keys()),\n",
        "    \"Total\": list(total_rating_user)\n",
        "})"
      ]
    },
    {
      "cell_type": "code",
      "execution_count": null,
      "metadata": {
        "colab": {
          "base_uri": "https://localhost:8080/",
          "height": 390
        },
        "id": "gjYAi7F5ycSN",
        "outputId": "d38929f1-f7e1-4a13-d251-fe087a883cef"
      },
      "outputs": [
        {
          "data": {
            "image/png": "[encoded data removed]",
            "text/plain": [
              "<Figure size 864x432 with 1 Axes>"
            ]
          },
          "metadata": {
            "needs_background": "light"
          },
          "output_type": "display_data"
        }
      ],
      "source": [
        "plt.figure(figsize=(12,6))\n",
        "sns.barplot(x = list(total_rating_user.keys()),\n",
        "            y = list(total_rating_user))\n",
        "plt.title(\"Diagram Top Rating Seluruh User (dalam satuan 10 juta)\")\n",
        "plt.show()"
      ]
    },
    {
      "cell_type": "code",
      "execution_count": null,
      "metadata": {
        "colab": {
          "base_uri": "https://localhost:8080/"
        },
        "id": "7Q8TcZyez7_N",
        "outputId": "4ee8719a-1180-4300-8429-46ea5968d09e"
      },
      "outputs": [
        {
          "data": {
            "text/plain": [
              "[0, 1, 2, 3, 4, 5, 6, 33, 55]"
            ]
          },
          "execution_count": 19,
          "metadata": {},
          "output_type": "execute_result"
        }
      ],
      "source": [
        "sorted(animelist_user.watching_status.unique())"
      ]
    },
    {
      "cell_type": "markdown",
      "metadata": {
        "id": "HXV72Q1B4TfB"
      },
      "source": [
        "watching status hanya bernilai 0, 1, 2, 3, 4, 6.\n",
        "Maka nilai 5, 33, 55 merupakan error, jadi perlu dihapus"
      ]
    },
    {
      "cell_type": "code",
      "execution_count": null,
      "metadata": {
        "id": "dzlRMR8m4fCf"
      },
      "outputs": [],
      "source": [
        "animelist_user.drop(animelist_user[animelist_user.watching_status == 5].index, inplace=True)\n",
        "animelist_user.drop(animelist_user[animelist_user.watching_status == 33].index, inplace=True)\n",
        "animelist_user.drop(animelist_user[animelist_user.watching_status == 55].index, inplace=True)"
      ]
    },
    {
      "cell_type": "code",
      "execution_count": null,
      "metadata": {
        "colab": {
          "base_uri": "https://localhost:8080/",
          "height": 332
        },
        "id": "hABtfiNEzW-v",
        "outputId": "ed339696-71f0-4de3-bbfe-f88e5144666d"
      },
      "outputs": [
        {
          "data": {
            "text/html": [
              "<div>\n",
              "<style scoped>\n",
              "    .dataframe tbody tr th:only-of-type {\n",
              "        vertical-align: middle;\n",
              "    }\n",
              "\n",
              "    .dataframe tbody tr th {\n",
              "        vertical-align: top;\n",
              "    }\n",
              "\n",
              "    .dataframe thead th {\n",
              "        text-align: right;\n",
              "    }\n",
              "</style>\n",
              "<table border=\"1\" class=\"dataframe\">\n",
              "  <thead>\n",
              "    <tr style=\"text-align: right;\">\n",
              "      <th></th>\n",
              "      <th>Watching Status</th>\n",
              "      <th>Total</th>\n",
              "    </tr>\n",
              "  </thead>\n",
              "  <tbody>\n",
              "    <tr>\n",
              "      <th>0</th>\n",
              "      <td>2</td>\n",
              "      <td>68089751</td>\n",
              "    </tr>\n",
              "    <tr>\n",
              "      <th>1</th>\n",
              "      <td>6</td>\n",
              "      <td>27938693</td>\n",
              "    </tr>\n",
              "    <tr>\n",
              "      <th>2</th>\n",
              "      <td>1</td>\n",
              "      <td>5228658</td>\n",
              "    </tr>\n",
              "    <tr>\n",
              "      <th>3</th>\n",
              "      <td>4</td>\n",
              "      <td>4266591</td>\n",
              "    </tr>\n",
              "    <tr>\n",
              "      <th>4</th>\n",
              "      <td>3</td>\n",
              "      <td>3700514</td>\n",
              "    </tr>\n",
              "    <tr>\n",
              "      <th>5</th>\n",
              "      <td>0</td>\n",
              "      <td>531</td>\n",
              "    </tr>\n",
              "  </tbody>\n",
              "</table>\n",
              "</div>"
            ],
            "text/plain": [
              "   Watching Status     Total\n",
              "0                2  68089751\n",
              "1                6  27938693\n",
              "2                1   5228658\n",
              "3                4   4266591\n",
              "4                3   3700514\n",
              "5                0       531"
            ]
          },
          "execution_count": 21,
          "metadata": {},
          "output_type": "execute_result"
        }
      ],
      "source": [
        "# top watching status\n",
        "total_watching_status_user = animelist_user.watching_status.value_counts()\n",
        "pd.DataFrame({\n",
        "    \"Watching Status\": list(total_watching_status_user.keys()),\n",
        "    \"Total\": list(total_watching_status_user)\n",
        "})"
      ]
    },
    {
      "cell_type": "code",
      "execution_count": null,
      "metadata": {
        "id": "GZfqeRFvZXAS",
        "outputId": "d418a2ea-8dac-4473-d577-a11bdeae4fc0"
      },
      "outputs": [
        {
          "data": {
            "image/png": "[encoded data removed]",
            "text/plain": [
              "<Figure size 864x432 with 1 Axes>"
            ]
          },
          "metadata": {
            "needs_background": "light"
          },
          "output_type": "display_data"
        }
      ],
      "source": [
        "plt.figure(figsize=(12,6))\n",
        "sns.barplot(x = list(total_watching_status_user.keys()),\n",
        "            y = list(total_watching_status_user))\n",
        "plt.title(\"Diagram Top Watching Status Seluruh User (dalam satuan 10 juta)\")\n",
        "plt.show()"
      ]
    },
    {
      "cell_type": "markdown",
      "metadata": {
        "id": "pJjxfzeDyBVT"
      },
      "source": [
        "### Analisis data pada rating_complete.csv"
      ]
    },
    {
      "cell_type": "markdown",
      "metadata": {
        "id": "M3PqvekTZXAT"
      },
      "source": [
        "This dataset only considers animes that the user has watched completely (watching_status==2) and gave it a score (score!=0)"
      ]
    },
    {
      "cell_type": "code",
      "execution_count": null,
      "metadata": {
        "colab": {
          "base_uri": "https://localhost:8080/"
        },
        "id": "q-gVhGnDkTAs",
        "outputId": "402e717e-5716-4247-8d2c-1d8f1248d88b"
      },
      "outputs": [
        {
          "name": "stdout",
          "output_type": "stream",
          "text": [
            "<class 'pandas.core.frame.DataFrame'>\n",
            "RangeIndex: 57633278 entries, 0 to 57633277\n",
            "Data columns (total 3 columns):\n",
            " #   Column    Dtype\n",
            "---  ------    -----\n",
            " 0   user_id   int64\n",
            " 1   anime_id  int64\n",
            " 2   rating    int64\n",
            "dtypes: int64(3)\n",
            "memory usage: 1.3 GB\n"
          ]
        }
      ],
      "source": [
        "rating.info()"
      ]
    },
    {
      "cell_type": "markdown",
      "metadata": {
        "id": "90V7KCYoZXAT"
      },
      "source": [
        "cek data null"
      ]
    },
    {
      "cell_type": "code",
      "execution_count": null,
      "metadata": {
        "id": "zYwGC_1NZXAT",
        "outputId": "4b4e2bab-df16-45f5-935d-50ba63713163"
      },
      "outputs": [
        {
          "data": {
            "text/plain": [
              "user_id     0\n",
              "anime_id    0\n",
              "rating      0\n",
              "dtype: int64"
            ]
          },
          "execution_count": 24,
          "metadata": {},
          "output_type": "execute_result"
        }
      ],
      "source": [
        "rating.isnull().sum()"
      ]
    },
    {
      "cell_type": "markdown",
      "metadata": {
        "id": "M6-S_BzbZXAT"
      },
      "source": [
        "cek ducplicated data"
      ]
    },
    {
      "cell_type": "code",
      "execution_count": null,
      "metadata": {
        "id": "L9F0AJ1UZXAT",
        "outputId": "35e80f9f-fd70-4f9b-ee87-51837ae70dad"
      },
      "outputs": [
        {
          "data": {
            "text/plain": [
              "0"
            ]
          },
          "execution_count": 25,
          "metadata": {},
          "output_type": "execute_result"
        }
      ],
      "source": [
        "rating.duplicated().sum()"
      ]
    },
    {
      "cell_type": "code",
      "execution_count": null,
      "metadata": {
        "id": "eQnrnTcwZXAU",
        "outputId": "b24f72a0-d55e-4ab9-c012-635e40b14354"
      },
      "outputs": [
        {
          "name": "stdout",
          "output_type": "stream",
          "text": [
            "Jumlah aktivitas user terhadap anime: 310059\n",
            "Jumlah anime: 16872\n"
          ]
        }
      ],
      "source": [
        "print(\"Jumlah aktivitas user terhadap anime:\", len(rating.user_id.unique()))\n",
        "print(\"Jumlah anime:\", len(rating.anime_id.unique()))"
      ]
    },
    {
      "cell_type": "code",
      "execution_count": null,
      "metadata": {
        "id": "-YH71rIIZXAU",
        "outputId": "79b7197d-3a5c-4998-e394-bcf5a8ddd6db"
      },
      "outputs": [
        {
          "data": {
            "text/html": [
              "<div>\n",
              "<style scoped>\n",
              "    .dataframe tbody tr th:only-of-type {\n",
              "        vertical-align: middle;\n",
              "    }\n",
              "\n",
              "    .dataframe tbody tr th {\n",
              "        vertical-align: top;\n",
              "    }\n",
              "\n",
              "    .dataframe thead th {\n",
              "        text-align: right;\n",
              "    }\n",
              "</style>\n",
              "<table border=\"1\" class=\"dataframe\">\n",
              "  <thead>\n",
              "    <tr style=\"text-align: right;\">\n",
              "      <th></th>\n",
              "      <th>Rating</th>\n",
              "      <th>Total</th>\n",
              "    </tr>\n",
              "  </thead>\n",
              "  <tbody>\n",
              "    <tr>\n",
              "      <th>0</th>\n",
              "      <td>8</td>\n",
              "      <td>14642156</td>\n",
              "    </tr>\n",
              "    <tr>\n",
              "      <th>1</th>\n",
              "      <td>7</td>\n",
              "      <td>13325549</td>\n",
              "    </tr>\n",
              "    <tr>\n",
              "      <th>2</th>\n",
              "      <td>9</td>\n",
              "      <td>9773857</td>\n",
              "    </tr>\n",
              "    <tr>\n",
              "      <th>3</th>\n",
              "      <td>6</td>\n",
              "      <td>6849293</td>\n",
              "    </tr>\n",
              "    <tr>\n",
              "      <th>4</th>\n",
              "      <td>10</td>\n",
              "      <td>6716048</td>\n",
              "    </tr>\n",
              "    <tr>\n",
              "      <th>5</th>\n",
              "      <td>5</td>\n",
              "      <td>3436250</td>\n",
              "    </tr>\n",
              "    <tr>\n",
              "      <th>6</th>\n",
              "      <td>4</td>\n",
              "      <td>1455102</td>\n",
              "    </tr>\n",
              "    <tr>\n",
              "      <th>7</th>\n",
              "      <td>3</td>\n",
              "      <td>696048</td>\n",
              "    </tr>\n",
              "    <tr>\n",
              "      <th>8</th>\n",
              "      <td>2</td>\n",
              "      <td>405556</td>\n",
              "    </tr>\n",
              "    <tr>\n",
              "      <th>9</th>\n",
              "      <td>1</td>\n",
              "      <td>333419</td>\n",
              "    </tr>\n",
              "  </tbody>\n",
              "</table>\n",
              "</div>"
            ],
            "text/plain": [
              "   Rating     Total\n",
              "0       8  14642156\n",
              "1       7  13325549\n",
              "2       9   9773857\n",
              "3       6   6849293\n",
              "4      10   6716048\n",
              "5       5   3436250\n",
              "6       4   1455102\n",
              "7       3    696048\n",
              "8       2    405556\n",
              "9       1    333419"
            ]
          },
          "execution_count": 27,
          "metadata": {},
          "output_type": "execute_result"
        }
      ],
      "source": [
        "# top rating\n",
        "total_rating_complete_user = rating.rating.value_counts()\n",
        "pd.DataFrame({\n",
        "    \"Rating\": list(total_rating_complete_user.keys()),\n",
        "    \"Total\": list(total_rating_complete_user)\n",
        "})"
      ]
    },
    {
      "cell_type": "code",
      "execution_count": null,
      "metadata": {
        "id": "uuFEbZxfZXAU",
        "outputId": "20fb911b-efeb-4284-cd65-558833837212"
      },
      "outputs": [
        {
          "data": {
            "image/png": "[encoded data removed]",
            "text/plain": [
              "<Figure size 864x432 with 1 Axes>"
            ]
          },
          "metadata": {
            "needs_background": "light"
          },
          "output_type": "display_data"
        }
      ],
      "source": [
        "plt.figure(figsize=(12,6))\n",
        "sns.barplot(x = list(total_rating_complete_user.keys()),\n",
        "            y = list(total_rating_complete_user))\n",
        "plt.title(\"Diagram Top Rating Seluruh User (dalam satuan 10 juta)\")\n",
        "plt.show()"
      ]
    },
    {
      "cell_type": "markdown",
      "metadata": {
        "id": "NQh-SFImZXAU"
      },
      "source": [
        "### Analisis data pada watching_status.csv"
      ]
    },
    {
      "cell_type": "code",
      "execution_count": null,
      "metadata": {
        "colab": {
          "base_uri": "https://localhost:8080/"
        },
        "id": "53K6_aabkVHa",
        "outputId": "9309a506-be7c-47a1-9994-873bbab76f92"
      },
      "outputs": [
        {
          "name": "stdout",
          "output_type": "stream",
          "text": [
            "<class 'pandas.core.frame.DataFrame'>\n",
            "RangeIndex: 5 entries, 0 to 4\n",
            "Data columns (total 2 columns):\n",
            " #   Column        Non-Null Count  Dtype \n",
            "---  ------        --------------  ----- \n",
            " 0   status        5 non-null      int64 \n",
            " 1    description  5 non-null      object\n",
            "dtypes: int64(1), object(1)\n",
            "memory usage: 208.0+ bytes\n"
          ]
        }
      ],
      "source": [
        "status.info()"
      ]
    },
    {
      "cell_type": "code",
      "execution_count": null,
      "metadata": {
        "colab": {
          "base_uri": "https://localhost:8080/",
          "height": 206
        },
        "id": "mQjave8FkfWk",
        "outputId": "e4591fb2-3076-45ce-b001-08826c818691"
      },
      "outputs": [
        {
          "data": {
            "text/html": [
              "<div>\n",
              "<style scoped>\n",
              "    .dataframe tbody tr th:only-of-type {\n",
              "        vertical-align: middle;\n",
              "    }\n",
              "\n",
              "    .dataframe tbody tr th {\n",
              "        vertical-align: top;\n",
              "    }\n",
              "\n",
              "    .dataframe thead th {\n",
              "        text-align: right;\n",
              "    }\n",
              "</style>\n",
              "<table border=\"1\" class=\"dataframe\">\n",
              "  <thead>\n",
              "    <tr style=\"text-align: right;\">\n",
              "      <th></th>\n",
              "      <th>status</th>\n",
              "      <th>description</th>\n",
              "    </tr>\n",
              "  </thead>\n",
              "  <tbody>\n",
              "    <tr>\n",
              "      <th>0</th>\n",
              "      <td>1</td>\n",
              "      <td>Currently Watching</td>\n",
              "    </tr>\n",
              "    <tr>\n",
              "      <th>1</th>\n",
              "      <td>2</td>\n",
              "      <td>Completed</td>\n",
              "    </tr>\n",
              "    <tr>\n",
              "      <th>2</th>\n",
              "      <td>3</td>\n",
              "      <td>On Hold</td>\n",
              "    </tr>\n",
              "    <tr>\n",
              "      <th>3</th>\n",
              "      <td>4</td>\n",
              "      <td>Dropped</td>\n",
              "    </tr>\n",
              "    <tr>\n",
              "      <th>4</th>\n",
              "      <td>6</td>\n",
              "      <td>Plan to Watch</td>\n",
              "    </tr>\n",
              "  </tbody>\n",
              "</table>\n",
              "</div>"
            ],
            "text/plain": [
              "   status         description\n",
              "0       1  Currently Watching\n",
              "1       2           Completed\n",
              "2       3             On Hold\n",
              "3       4             Dropped\n",
              "4       6       Plan to Watch"
            ]
          },
          "execution_count": 30,
          "metadata": {},
          "output_type": "execute_result"
        }
      ],
      "source": [
        "status"
      ]
    },
    {
      "cell_type": "markdown",
      "metadata": {
        "id": "7t43UFwkZXAV"
      },
      "source": [
        "# Data Preparation"
      ]
    },
    {
      "cell_type": "markdown",
      "metadata": {
        "id": "PVkWdtthZXAV"
      },
      "source": [
        "Memilih data yang akan digunakan"
      ]
    },
    {
      "cell_type": "code",
      "execution_count": null,
      "metadata": {
        "id": "_5GSVnEjrE8m"
      },
      "outputs": [],
      "source": [
        "df_anime = anime[[\"MAL_ID\", \"Name\", \"Score\", \"Genres\", \"Premiered\"]]\n",
        "df_anime.columns = ['anime_id', 'name', 'score', 'genres', 'premiered']\n",
        "\n",
        "df_rating = rating"
      ]
    },
    {
      "cell_type": "code",
      "execution_count": null,
      "metadata": {
        "id": "ZcjHhRn8ZXAV",
        "outputId": "1a43f739-edc8-4f50-ea45-670b52397afd"
      },
      "outputs": [
        {
          "data": {
            "text/html": [
              "<div>\n",
              "<style scoped>\n",
              "    .dataframe tbody tr th:only-of-type {\n",
              "        vertical-align: middle;\n",
              "    }\n",
              "\n",
              "    .dataframe tbody tr th {\n",
              "        vertical-align: top;\n",
              "    }\n",
              "\n",
              "    .dataframe thead th {\n",
              "        text-align: right;\n",
              "    }\n",
              "</style>\n",
              "<table border=\"1\" class=\"dataframe\">\n",
              "  <thead>\n",
              "    <tr style=\"text-align: right;\">\n",
              "      <th></th>\n",
              "      <th>anime_id</th>\n",
              "      <th>name</th>\n",
              "      <th>score</th>\n",
              "      <th>genres</th>\n",
              "      <th>premiered</th>\n",
              "    </tr>\n",
              "  </thead>\n",
              "  <tbody>\n",
              "    <tr>\n",
              "      <th>0</th>\n",
              "      <td>1</td>\n",
              "      <td>Cowboy Bebop</td>\n",
              "      <td>8.78</td>\n",
              "      <td>Action, Adventure, Comedy, Drama, Sci-Fi, Space</td>\n",
              "      <td>Spring 1998</td>\n",
              "    </tr>\n",
              "    <tr>\n",
              "      <th>1</th>\n",
              "      <td>5</td>\n",
              "      <td>Cowboy Bebop: Tengoku no Tobira</td>\n",
              "      <td>8.39</td>\n",
              "      <td>Action, Drama, Mystery, Sci-Fi, Space</td>\n",
              "      <td>Unknown</td>\n",
              "    </tr>\n",
              "    <tr>\n",
              "      <th>2</th>\n",
              "      <td>6</td>\n",
              "      <td>Trigun</td>\n",
              "      <td>8.24</td>\n",
              "      <td>Action, Sci-Fi, Adventure, Comedy, Drama, Shounen</td>\n",
              "      <td>Spring 1998</td>\n",
              "    </tr>\n",
              "    <tr>\n",
              "      <th>3</th>\n",
              "      <td>7</td>\n",
              "      <td>Witch Hunter Robin</td>\n",
              "      <td>7.27</td>\n",
              "      <td>Action, Mystery, Police, Supernatural, Drama, ...</td>\n",
              "      <td>Summer 2002</td>\n",
              "    </tr>\n",
              "    <tr>\n",
              "      <th>4</th>\n",
              "      <td>8</td>\n",
              "      <td>Bouken Ou Beet</td>\n",
              "      <td>6.98</td>\n",
              "      <td>Adventure, Fantasy, Shounen, Supernatural</td>\n",
              "      <td>Fall 2004</td>\n",
              "    </tr>\n",
              "  </tbody>\n",
              "</table>\n",
              "</div>"
            ],
            "text/plain": [
              "   anime_id                             name score  \\\n",
              "0         1                     Cowboy Bebop  8.78   \n",
              "1         5  Cowboy Bebop: Tengoku no Tobira  8.39   \n",
              "2         6                           Trigun  8.24   \n",
              "3         7               Witch Hunter Robin  7.27   \n",
              "4         8                   Bouken Ou Beet  6.98   \n",
              "\n",
              "                                              genres    premiered  \n",
              "0    Action, Adventure, Comedy, Drama, Sci-Fi, Space  Spring 1998  \n",
              "1              Action, Drama, Mystery, Sci-Fi, Space      Unknown  \n",
              "2  Action, Sci-Fi, Adventure, Comedy, Drama, Shounen  Spring 1998  \n",
              "3  Action, Mystery, Police, Supernatural, Drama, ...  Summer 2002  \n",
              "4          Adventure, Fantasy, Shounen, Supernatural    Fall 2004  "
            ]
          },
          "execution_count": 46,
          "metadata": {},
          "output_type": "execute_result"
        }
      ],
      "source": [
        "df_anime.head()"
      ]
    },
    {
      "cell_type": "code",
      "execution_count": null,
      "metadata": {
        "id": "SnlrT0eHZXAV",
        "outputId": "6af3baa8-aa8a-4fae-e197-7d79e4c13929"
      },
      "outputs": [
        {
          "data": {
            "text/html": [
              "<div>\n",
              "<style scoped>\n",
              "    .dataframe tbody tr th:only-of-type {\n",
              "        vertical-align: middle;\n",
              "    }\n",
              "\n",
              "    .dataframe tbody tr th {\n",
              "        vertical-align: top;\n",
              "    }\n",
              "\n",
              "    .dataframe thead th {\n",
              "        text-align: right;\n",
              "    }\n",
              "</style>\n",
              "<table border=\"1\" class=\"dataframe\">\n",
              "  <thead>\n",
              "    <tr style=\"text-align: right;\">\n",
              "      <th></th>\n",
              "      <th>user_id</th>\n",
              "      <th>anime_id</th>\n",
              "      <th>rating</th>\n",
              "    </tr>\n",
              "  </thead>\n",
              "  <tbody>\n",
              "    <tr>\n",
              "      <th>0</th>\n",
              "      <td>0</td>\n",
              "      <td>430</td>\n",
              "      <td>9</td>\n",
              "    </tr>\n",
              "    <tr>\n",
              "      <th>1</th>\n",
              "      <td>0</td>\n",
              "      <td>1004</td>\n",
              "      <td>5</td>\n",
              "    </tr>\n",
              "    <tr>\n",
              "      <th>2</th>\n",
              "      <td>0</td>\n",
              "      <td>3010</td>\n",
              "      <td>7</td>\n",
              "    </tr>\n",
              "    <tr>\n",
              "      <th>3</th>\n",
              "      <td>0</td>\n",
              "      <td>570</td>\n",
              "      <td>7</td>\n",
              "    </tr>\n",
              "    <tr>\n",
              "      <th>4</th>\n",
              "      <td>0</td>\n",
              "      <td>2762</td>\n",
              "      <td>9</td>\n",
              "    </tr>\n",
              "  </tbody>\n",
              "</table>\n",
              "</div>"
            ],
            "text/plain": [
              "   user_id  anime_id  rating\n",
              "0        0       430       9\n",
              "1        0      1004       5\n",
              "2        0      3010       7\n",
              "3        0       570       7\n",
              "4        0      2762       9"
            ]
          },
          "execution_count": 47,
          "metadata": {},
          "output_type": "execute_result"
        }
      ],
      "source": [
        "df_rating.head()"
      ]
    },
    {
      "cell_type": "code",
      "execution_count": null,
      "metadata": {
        "id": "iKYNosWdZXAV",
        "outputId": "4bb08585-99c0-408f-c8bd-4488fa38d5a1"
      },
      "outputs": [
        {
          "name": "stdout",
          "output_type": "stream",
          "text": [
            "Jumlah anime yang digunakan: 16872\n",
            "Jumlah user yang digunakan: 310059\n",
            "Jumlah rating user yang digunakan: 57633278\n"
          ]
        }
      ],
      "source": [
        "print(\"Jumlah anime yang digunakan:\", len(df_rating.anime_id.unique()))\n",
        "print(\"Jumlah user yang digunakan:\", len(df_rating.user_id.unique()))\n",
        "print(\"Jumlah rating user yang digunakan:\", len(df_rating))"
      ]
    },
    {
      "cell_type": "markdown",
      "metadata": {
        "id": "1DSHfc7FZXAV"
      },
      "source": [
        "karena data terlalu besar, training model dilakukan hanya mengambil data sebanyak 1000 user saja"
      ]
    },
    {
      "cell_type": "code",
      "execution_count": null,
      "metadata": {
        "id": "8bMvFQo9ZXAV"
      },
      "outputs": [],
      "source": [
        "user_ids = np.array(df_rating.user_id.unique().tolist())\n",
        "\n",
        "np.random.seed(42)\n",
        "np.random.shuffle(user_ids)\n",
        "user_ids = user_ids[:1000]\n",
        "\n",
        "df_rating = df_rating[df_rating.user_id.isin(user_ids)]"
      ]
    },
    {
      "cell_type": "code",
      "execution_count": null,
      "metadata": {
        "id": "LXXjwnSMZXAW",
        "outputId": "b0b6737e-4943-4dff-9bca-952c153e92d7"
      },
      "outputs": [
        {
          "name": "stdout",
          "output_type": "stream",
          "text": [
            "Jumlah anime yang digunakan: 8799\n",
            "Jumlah user yang digunakan: 1000\n",
            "Jumlah rating user yang digunakan: 185054\n"
          ]
        }
      ],
      "source": [
        "print(\"Jumlah anime yang digunakan:\", len(df_rating.anime_id.unique()))\n",
        "print(\"Jumlah user yang digunakan:\", len(df_rating.user_id.unique()))\n",
        "print(\"Jumlah rating user yang digunakan:\", len(df_rating))"
      ]
    },
    {
      "cell_type": "markdown",
      "metadata": {
        "id": "4xBZBEVhZXAW"
      },
      "source": [
        "cek data hubungan anime dengan rating, apakah semua rating anime memiliki detail anime"
      ]
    },
    {
      "cell_type": "code",
      "execution_count": null,
      "metadata": {
        "id": "233MdjmSZXAW",
        "outputId": "2d81a401-89c0-4f81-ebe8-5951a03cac62"
      },
      "outputs": [
        {
          "data": {
            "text/html": [
              "<div>\n",
              "<style scoped>\n",
              "    .dataframe tbody tr th:only-of-type {\n",
              "        vertical-align: middle;\n",
              "    }\n",
              "\n",
              "    .dataframe tbody tr th {\n",
              "        vertical-align: top;\n",
              "    }\n",
              "\n",
              "    .dataframe thead th {\n",
              "        text-align: right;\n",
              "    }\n",
              "</style>\n",
              "<table border=\"1\" class=\"dataframe\">\n",
              "  <thead>\n",
              "    <tr style=\"text-align: right;\">\n",
              "      <th></th>\n",
              "      <th>user_id</th>\n",
              "      <th>anime_id</th>\n",
              "      <th>rating</th>\n",
              "      <th>name</th>\n",
              "    </tr>\n",
              "  </thead>\n",
              "  <tbody>\n",
              "    <tr>\n",
              "      <th>0</th>\n",
              "      <td>147</td>\n",
              "      <td>14093</td>\n",
              "      <td>10</td>\n",
              "      <td>Pokemon Best Wishes! Season 2</td>\n",
              "    </tr>\n",
              "    <tr>\n",
              "      <th>1</th>\n",
              "      <td>147</td>\n",
              "      <td>9107</td>\n",
              "      <td>10</td>\n",
              "      <td>Pokemon Best Wishes!</td>\n",
              "    </tr>\n",
              "    <tr>\n",
              "      <th>2</th>\n",
              "      <td>147</td>\n",
              "      <td>28299</td>\n",
              "      <td>8</td>\n",
              "      <td>Ookami Shoujo to Kuro Ouji: Gishinanki – Happe...</td>\n",
              "    </tr>\n",
              "    <tr>\n",
              "      <th>3</th>\n",
              "      <td>147</td>\n",
              "      <td>23673</td>\n",
              "      <td>4</td>\n",
              "      <td>Ookami Shoujo to Kuro Ouji</td>\n",
              "    </tr>\n",
              "    <tr>\n",
              "      <th>4</th>\n",
              "      <td>147</td>\n",
              "      <td>12355</td>\n",
              "      <td>10</td>\n",
              "      <td>Ookami Kodomo no Ame to Yuki</td>\n",
              "    </tr>\n",
              "  </tbody>\n",
              "</table>\n",
              "</div>"
            ],
            "text/plain": [
              "   user_id  anime_id  rating  \\\n",
              "0      147     14093      10   \n",
              "1      147      9107      10   \n",
              "2      147     28299       8   \n",
              "3      147     23673       4   \n",
              "4      147     12355      10   \n",
              "\n",
              "                                                name  \n",
              "0                      Pokemon Best Wishes! Season 2  \n",
              "1                               Pokemon Best Wishes!  \n",
              "2  Ookami Shoujo to Kuro Ouji: Gishinanki – Happe...  \n",
              "3                         Ookami Shoujo to Kuro Ouji  \n",
              "4                       Ookami Kodomo no Ame to Yuki  "
            ]
          },
          "execution_count": 51,
          "metadata": {},
          "output_type": "execute_result"
        }
      ],
      "source": [
        "df_merge = pd.merge(df_rating, df_anime[['anime_id', 'name']], on='anime_id', how='left')\n",
        "df_merge.head()"
      ]
    },
    {
      "cell_type": "code",
      "execution_count": null,
      "metadata": {
        "id": "I4r35uW_ZXAW",
        "outputId": "14cb5d14-28e2-4298-d331-6163e17da92e"
      },
      "outputs": [
        {
          "data": {
            "text/plain": [
              "user_id     0\n",
              "anime_id    0\n",
              "rating      0\n",
              "name        0\n",
              "dtype: int64"
            ]
          },
          "execution_count": 52,
          "metadata": {},
          "output_type": "execute_result"
        }
      ],
      "source": [
        "df_merge.isna().sum()"
      ]
    },
    {
      "cell_type": "markdown",
      "metadata": {
        "id": "9F96zA_WZXAW"
      },
      "source": [
        "cek data hubungan anime dengan rating, apakah semua detail anime memiliki rating"
      ]
    },
    {
      "cell_type": "code",
      "execution_count": null,
      "metadata": {
        "id": "arJ4egL1ZXAW",
        "outputId": "a536ad84-a582-4876-adbe-4b73dab309fa"
      },
      "outputs": [
        {
          "data": {
            "text/html": [
              "<div>\n",
              "<style scoped>\n",
              "    .dataframe tbody tr th:only-of-type {\n",
              "        vertical-align: middle;\n",
              "    }\n",
              "\n",
              "    .dataframe tbody tr th {\n",
              "        vertical-align: top;\n",
              "    }\n",
              "\n",
              "    .dataframe thead th {\n",
              "        text-align: right;\n",
              "    }\n",
              "</style>\n",
              "<table border=\"1\" class=\"dataframe\">\n",
              "  <thead>\n",
              "    <tr style=\"text-align: right;\">\n",
              "      <th></th>\n",
              "      <th>anime_id</th>\n",
              "      <th>name</th>\n",
              "      <th>user_id</th>\n",
              "      <th>rating</th>\n",
              "    </tr>\n",
              "  </thead>\n",
              "  <tbody>\n",
              "    <tr>\n",
              "      <th>0</th>\n",
              "      <td>1</td>\n",
              "      <td>Cowboy Bebop</td>\n",
              "      <td>147.0</td>\n",
              "      <td>8.0</td>\n",
              "    </tr>\n",
              "    <tr>\n",
              "      <th>1</th>\n",
              "      <td>1</td>\n",
              "      <td>Cowboy Bebop</td>\n",
              "      <td>435.0</td>\n",
              "      <td>9.0</td>\n",
              "    </tr>\n",
              "    <tr>\n",
              "      <th>2</th>\n",
              "      <td>1</td>\n",
              "      <td>Cowboy Bebop</td>\n",
              "      <td>1105.0</td>\n",
              "      <td>9.0</td>\n",
              "    </tr>\n",
              "    <tr>\n",
              "      <th>3</th>\n",
              "      <td>1</td>\n",
              "      <td>Cowboy Bebop</td>\n",
              "      <td>6632.0</td>\n",
              "      <td>6.0</td>\n",
              "    </tr>\n",
              "    <tr>\n",
              "      <th>4</th>\n",
              "      <td>1</td>\n",
              "      <td>Cowboy Bebop</td>\n",
              "      <td>6789.0</td>\n",
              "      <td>8.0</td>\n",
              "    </tr>\n",
              "  </tbody>\n",
              "</table>\n",
              "</div>"
            ],
            "text/plain": [
              "   anime_id          name  user_id  rating\n",
              "0         1  Cowboy Bebop    147.0     8.0\n",
              "1         1  Cowboy Bebop    435.0     9.0\n",
              "2         1  Cowboy Bebop   1105.0     9.0\n",
              "3         1  Cowboy Bebop   6632.0     6.0\n",
              "4         1  Cowboy Bebop   6789.0     8.0"
            ]
          },
          "execution_count": 53,
          "metadata": {},
          "output_type": "execute_result"
        }
      ],
      "source": [
        "df_merge2 = pd.merge(df_anime[['anime_id', 'name']], df_rating, on='anime_id', how='left')\n",
        "df_merge2.head()"
      ]
    },
    {
      "cell_type": "code",
      "execution_count": null,
      "metadata": {
        "id": "cFwLZq3KZXAX",
        "outputId": "41d6c18a-b6f4-4fcc-e242-c58713abe511"
      },
      "outputs": [
        {
          "data": {
            "text/plain": [
              "anime_id       0\n",
              "name           0\n",
              "user_id     8763\n",
              "rating      8763\n",
              "dtype: int64"
            ]
          },
          "execution_count": 54,
          "metadata": {},
          "output_type": "execute_result"
        }
      ],
      "source": [
        "df_merge2.isna().sum()"
      ]
    },
    {
      "cell_type": "markdown",
      "metadata": {
        "id": "srQOCDjcZXAX"
      },
      "source": [
        "terdapat 8763 data detail anime yang tidak memiliki rating"
      ]
    },
    {
      "cell_type": "code",
      "execution_count": null,
      "metadata": {
        "id": "QWXJSuEJZXAX",
        "outputId": "a206532a-71b0-438b-9bb2-2085802d6903"
      },
      "outputs": [
        {
          "name": "stdout",
          "output_type": "stream",
          "text": [
            "Jumlah detail anime yang digunakan: 8799\n"
          ]
        }
      ],
      "source": [
        "unused_anime_id = df_merge2[df_merge2.rating.isna()].anime_id.unique().tolist()\n",
        "\n",
        "df_anime = df_anime[~(df_anime.anime_id.isin(unused_anime_id))]\n",
        "print(\"Jumlah detail anime yang digunakan:\", len(df_anime.anime_id.unique()))"
      ]
    },
    {
      "cell_type": "markdown",
      "metadata": {
        "id": "_Nlw6lW6ZXAX"
      },
      "source": [
        "save final data"
      ]
    },
    {
      "cell_type": "code",
      "execution_count": null,
      "metadata": {
        "id": "kS8uMjGaZXAY"
      },
      "outputs": [],
      "source": [
        "df_rating.to_csv('final_rating.csv', index=False)\n",
        "df_anime.to_csv('final_anime.csv', index=False)"
      ]
    },
    {
      "cell_type": "markdown",
      "metadata": {
        "id": "pmoXJbb5ZiwR"
      },
      "source": [
        "load final data"
      ]
    },
    {
      "cell_type": "code",
      "execution_count": 2,
      "metadata": {
        "id": "JNDj9ivRZiWH"
      },
      "outputs": [],
      "source": [
        "df_rating = pd.read_csv('final_rating.csv')\n",
        "df_anime = pd.read_csv('final_anime.csv')"
      ]
    },
    {
      "cell_type": "code",
      "execution_count": 3,
      "metadata": {
        "colab": {
          "base_uri": "https://localhost:8080/",
          "height": 424
        },
        "id": "VhpOvbWydi9I",
        "outputId": "45664321-bc2c-4331-bf4c-1d8f439d25f6"
      },
      "outputs": [
        {
          "output_type": "execute_result",
          "data": {
            "text/plain": [
              "        user_id  anime_id  rating\n",
              "0           147     14093      10\n",
              "1           147      9107      10\n",
              "2           147     28299       8\n",
              "3           147     23673       4\n",
              "4           147     12355      10\n",
              "...         ...       ...     ...\n",
              "185049   352965      8630       8\n",
              "185050   352965     17549       8\n",
              "185051   352965     19221       8\n",
              "185052   352965     13759       9\n",
              "185053   352965      9919       7\n",
              "\n",
              "[185054 rows x 3 columns]"
            ],
            "text/html": [
              "\n",
              "  <div id=\"df-52ed77f2-c50d-459b-9dcb-308164adef0b\">\n",
              "    <div class=\"colab-df-container\">\n",
              "      <div>\n",
              "<style scoped>\n",
              "    .dataframe tbody tr th:only-of-type {\n",
              "        vertical-align: middle;\n",
              "    }\n",
              "\n",
              "    .dataframe tbody tr th {\n",
              "        vertical-align: top;\n",
              "    }\n",
              "\n",
              "    .dataframe thead th {\n",
              "        text-align: right;\n",
              "    }\n",
              "</style>\n",
              "<table border=\"1\" class=\"dataframe\">\n",
              "  <thead>\n",
              "    <tr style=\"text-align: right;\">\n",
              "      <th></th>\n",
              "      <th>user_id</th>\n",
              "      <th>anime_id</th>\n",
              "      <th>rating</th>\n",
              "    </tr>\n",
              "  </thead>\n",
              "  <tbody>\n",
              "    <tr>\n",
              "      <th>0</th>\n",
              "      <td>147</td>\n",
              "      <td>14093</td>\n",
              "      <td>10</td>\n",
              "    </tr>\n",
              "    <tr>\n",
              "      <th>1</th>\n",
              "      <td>147</td>\n",
              "      <td>9107</td>\n",
              "      <td>10</td>\n",
              "    </tr>\n",
              "    <tr>\n",
              "      <th>2</th>\n",
              "      <td>147</td>\n",
              "      <td>28299</td>\n",
              "      <td>8</td>\n",
              "    </tr>\n",
              "    <tr>\n",
              "      <th>3</th>\n",
              "      <td>147</td>\n",
              "      <td>23673</td>\n",
              "      <td>4</td>\n",
              "    </tr>\n",
              "    <tr>\n",
              "      <th>4</th>\n",
              "      <td>147</td>\n",
              "      <td>12355</td>\n",
              "      <td>10</td>\n",
              "    </tr>\n",
              "    <tr>\n",
              "      <th>...</th>\n",
              "      <td>...</td>\n",
              "      <td>...</td>\n",
              "      <td>...</td>\n",
              "    </tr>\n",
              "    <tr>\n",
              "      <th>185049</th>\n",
              "      <td>352965</td>\n",
              "      <td>8630</td>\n",
              "      <td>8</td>\n",
              "    </tr>\n",
              "    <tr>\n",
              "      <th>185050</th>\n",
              "      <td>352965</td>\n",
              "      <td>17549</td>\n",
              "      <td>8</td>\n",
              "    </tr>\n",
              "    <tr>\n",
              "      <th>185051</th>\n",
              "      <td>352965</td>\n",
              "      <td>19221</td>\n",
              "      <td>8</td>\n",
              "    </tr>\n",
              "    <tr>\n",
              "      <th>185052</th>\n",
              "      <td>352965</td>\n",
              "      <td>13759</td>\n",
              "      <td>9</td>\n",
              "    </tr>\n",
              "    <tr>\n",
              "      <th>185053</th>\n",
              "      <td>352965</td>\n",
              "      <td>9919</td>\n",
              "      <td>7</td>\n",
              "    </tr>\n",
              "  </tbody>\n",
              "</table>\n",
              "<p>185054 rows × 3 columns</p>\n",
              "</div>\n",
              "      <button class=\"colab-df-convert\" onclick=\"convertToInteractive('df-52ed77f2-c50d-459b-9dcb-308164adef0b')\"\n",
              "              title=\"Convert this dataframe to an interactive table.\"\n",
              "              style=\"display:none;\">\n",
              "        \n",
              "  <svg xmlns=\"http://www.w3.org/2000/svg\" height=\"24px\"viewBox=\"0 0 24 24\"\n",
              "       width=\"24px\">\n",
              "    <path d=\"M0 0h24v24H0V0z\" fill=\"none\"/>\n",
              "    <path d=\"M18.56 5.44l.94 2.06.94-2.06 2.06-.94-2.06-.94-.94-2.06-.94 2.06-2.06.94zm-11 1L8.5 8.5l.94-2.06 2.06-.94-2.06-.94L8.5 2.5l-.94 2.06-2.06.94zm10 10l.94 2.06.94-2.06 2.06-.94-2.06-.94-.94-2.06-.94 2.06-2.06.94z\"/><path d=\"M17.41 7.96l-1.37-1.37c-.4-.4-.92-.59-1.43-.59-.52 0-1.04.2-1.43.59L10.3 9.45l-7.72 7.72c-.78.78-.78 2.05 0 2.83L4 21.41c.39.39.9.59 1.41.59.51 0 1.02-.2 1.41-.59l7.78-7.78 2.81-2.81c.8-.78.8-2.07 0-2.86zM5.41 20L4 18.59l7.72-7.72 1.47 1.35L5.41 20z\"/>\n",
              "  </svg>\n",
              "      </button>\n",
              "      \n",
              "  <style>\n",
              "    .colab-df-container {\n",
              "      display:flex;\n",
              "      flex-wrap:wrap;\n",
              "      gap: 12px;\n",
              "    }\n",
              "\n",
              "    .colab-df-convert {\n",
              "      background-color: #E8F0FE;\n",
              "      border: none;\n",
              "      border-radius: 50%;\n",
              "      cursor: pointer;\n",
              "      display: none;\n",
              "      fill: #1967D2;\n",
              "      height: 32px;\n",
              "      padding: 0 0 0 0;\n",
              "      width: 32px;\n",
              "    }\n",
              "\n",
              "    .colab-df-convert:hover {\n",
              "      background-color: #E2EBFA;\n",
              "      box-shadow: 0px 1px 2px rgba(60, 64, 67, 0.3), 0px 1px 3px 1px rgba(60, 64, 67, 0.15);\n",
              "      fill: #174EA6;\n",
              "    }\n",
              "\n",
              "    [theme=dark] .colab-df-convert {\n",
              "      background-color: #3B4455;\n",
              "      fill: #D2E3FC;\n",
              "    }\n",
              "\n",
              "    [theme=dark] .colab-df-convert:hover {\n",
              "      background-color: #434B5C;\n",
              "      box-shadow: 0px 1px 3px 1px rgba(0, 0, 0, 0.15);\n",
              "      filter: drop-shadow(0px 1px 2px rgba(0, 0, 0, 0.3));\n",
              "      fill: #FFFFFF;\n",
              "    }\n",
              "  </style>\n",
              "\n",
              "      <script>\n",
              "        const buttonEl =\n",
              "          document.querySelector('#df-52ed77f2-c50d-459b-9dcb-308164adef0b button.colab-df-convert');\n",
              "        buttonEl.style.display =\n",
              "          google.colab.kernel.accessAllowed ? 'block' : 'none';\n",
              "\n",
              "        async function convertToInteractive(key) {\n",
              "          const element = document.querySelector('#df-52ed77f2-c50d-459b-9dcb-308164adef0b');\n",
              "          const dataTable =\n",
              "            await google.colab.kernel.invokeFunction('convertToInteractive',\n",
              "                                                     [key], {});\n",
              "          if (!dataTable) return;\n",
              "\n",
              "          const docLinkHtml = 'Like what you see? Visit the ' +\n",
              "            '<a target=\"_blank\" href=https://colab.research.google.com/notebooks/data_table.ipynb>data table notebook</a>'\n",
              "            + ' to learn more about interactive tables.';\n",
              "          element.innerHTML = '';\n",
              "          dataTable['output_type'] = 'display_data';\n",
              "          await google.colab.output.renderOutput(dataTable, element);\n",
              "          const docLink = document.createElement('div');\n",
              "          docLink.innerHTML = docLinkHtml;\n",
              "          element.appendChild(docLink);\n",
              "        }\n",
              "      </script>\n",
              "    </div>\n",
              "  </div>\n",
              "  "
            ]
          },
          "metadata": {},
          "execution_count": 3
        }
      ],
      "source": [
        "df_rating"
      ]
    },
    {
      "cell_type": "markdown",
      "metadata": {
        "id": "D1N-sHzaaQ_f"
      },
      "source": [
        "encoding data"
      ]
    },
    {
      "cell_type": "code",
      "execution_count": 4,
      "metadata": {
        "id": "ChGItMQwaPcC"
      },
      "outputs": [],
      "source": [
        "# Mengubah user_id menjadi list tanpa nilai yang sama\n",
        "user_ids = df_rating['user_id'].unique().tolist()\n",
        " \n",
        "# Melakukan encoding user_id\n",
        "user_to_user_encoded = {x: i for i, x in enumerate(user_ids)}\n",
        " \n",
        "# Melakukan proses encoding angka ke ke user_id\n",
        "user_encoded_to_user = {i: x for i, x in enumerate(user_ids)}"
      ]
    },
    {
      "cell_type": "code",
      "execution_count": 5,
      "metadata": {
        "id": "4hkLH3t_anBn"
      },
      "outputs": [],
      "source": [
        "# Mengubah anime_id menjadi list tanpa nilai yang sama\n",
        "anime_ids = df_rating['anime_id'].unique().tolist()\n",
        " \n",
        "# Melakukan proses encoding anime_id\n",
        "anime_to_anime_encoded = {x: i for i, x in enumerate(anime_ids)}\n",
        " \n",
        "# Melakukan proses encoding angka ke anime_id\n",
        "anime_encoded_to_anime = {i: x for i, x in enumerate(anime_ids)}"
      ]
    },
    {
      "cell_type": "code",
      "execution_count": 6,
      "metadata": {
        "id": "JKHQbd0Oawci"
      },
      "outputs": [],
      "source": [
        "# Mapping user_id ke dataframe user\n",
        "df_rating['user'] = df_rating['user_id'].map(user_to_user_encoded)\n",
        " \n",
        "# Mapping anime_id ke dataframe anime\n",
        "df_rating['anime'] = df_rating['anime_id'].map(anime_to_anime_encoded)"
      ]
    },
    {
      "cell_type": "code",
      "execution_count": 7,
      "metadata": {
        "colab": {
          "base_uri": "https://localhost:8080/"
        },
        "id": "8hduTDsrZXAX",
        "outputId": "4f4addd3-38c4-4728-bd4c-33c3d5aeb445"
      },
      "outputs": [
        {
          "output_type": "stream",
          "name": "stdout",
          "text": [
            "1000\n",
            "8799\n",
            "Number of User: 1000, Number of Anime: 8799, Min Rating: 1.0, Max Rating: 10.0\n"
          ]
        }
      ],
      "source": [
        "# Mendapatkan jumlah user\n",
        "num_users = len(user_to_user_encoded)\n",
        "print(num_users)\n",
        " \n",
        "# Mendapatkan jumlah anime\n",
        "num_anime = len(anime_encoded_to_anime)\n",
        "print(num_anime)\n",
        " \n",
        "# Mengubah rating menjadi nilai float\n",
        "df_rating['rating'] = df_rating['rating'].values.astype(np.float32)\n",
        " \n",
        "# Nilai minimum rating\n",
        "min_rating = min(df_rating['rating'])\n",
        " \n",
        "# Nilai maksimal rating\n",
        "max_rating = max(df_rating['rating'])\n",
        " \n",
        "print('Number of User: {}, Number of Anime: {}, Min Rating: {}, Max Rating: {}'.format(\n",
        "    num_users, num_anime, min_rating, max_rating\n",
        "))"
      ]
    },
    {
      "cell_type": "code",
      "execution_count": 8,
      "metadata": {
        "colab": {
          "base_uri": "https://localhost:8080/",
          "height": 424
        },
        "id": "lCpMm-fJZXAX",
        "outputId": "3ee0995d-0e2a-4520-e904-65036779c970"
      },
      "outputs": [
        {
          "output_type": "execute_result",
          "data": {
            "text/plain": [
              "        user_id  anime_id  rating  user  anime\n",
              "138194   273551     33023    10.0   780   1512\n",
              "181703   347346      9907    10.0   973   2723\n",
              "142278   277840       482     5.0   796   2042\n",
              "158594   316982     14117     7.0   896   4409\n",
              "135400   264929     20159     8.0   756    767\n",
              "...         ...       ...     ...   ...    ...\n",
              "119879   235398     20899     8.0   672    494\n",
              "103694   202232      1117     7.0   575     85\n",
              "131932   262563     33161     7.0   745   2285\n",
              "146867   287737     28619     6.0   824   1489\n",
              "121958   240433     40454     7.0   686   3250\n",
              "\n",
              "[185054 rows x 5 columns]"
            ],
            "text/html": [
              "\n",
              "  <div id=\"df-cadc3bf5-6443-47cf-a188-c2fe7d3d439f\">\n",
              "    <div class=\"colab-df-container\">\n",
              "      <div>\n",
              "<style scoped>\n",
              "    .dataframe tbody tr th:only-of-type {\n",
              "        vertical-align: middle;\n",
              "    }\n",
              "\n",
              "    .dataframe tbody tr th {\n",
              "        vertical-align: top;\n",
              "    }\n",
              "\n",
              "    .dataframe thead th {\n",
              "        text-align: right;\n",
              "    }\n",
              "</style>\n",
              "<table border=\"1\" class=\"dataframe\">\n",
              "  <thead>\n",
              "    <tr style=\"text-align: right;\">\n",
              "      <th></th>\n",
              "      <th>user_id</th>\n",
              "      <th>anime_id</th>\n",
              "      <th>rating</th>\n",
              "      <th>user</th>\n",
              "      <th>anime</th>\n",
              "    </tr>\n",
              "  </thead>\n",
              "  <tbody>\n",
              "    <tr>\n",
              "      <th>138194</th>\n",
              "      <td>273551</td>\n",
              "      <td>33023</td>\n",
              "      <td>10.0</td>\n",
              "      <td>780</td>\n",
              "      <td>1512</td>\n",
              "    </tr>\n",
              "    <tr>\n",
              "      <th>181703</th>\n",
              "      <td>347346</td>\n",
              "      <td>9907</td>\n",
              "      <td>10.0</td>\n",
              "      <td>973</td>\n",
              "      <td>2723</td>\n",
              "    </tr>\n",
              "    <tr>\n",
              "      <th>142278</th>\n",
              "      <td>277840</td>\n",
              "      <td>482</td>\n",
              "      <td>5.0</td>\n",
              "      <td>796</td>\n",
              "      <td>2042</td>\n",
              "    </tr>\n",
              "    <tr>\n",
              "      <th>158594</th>\n",
              "      <td>316982</td>\n",
              "      <td>14117</td>\n",
              "      <td>7.0</td>\n",
              "      <td>896</td>\n",
              "      <td>4409</td>\n",
              "    </tr>\n",
              "    <tr>\n",
              "      <th>135400</th>\n",
              "      <td>264929</td>\n",
              "      <td>20159</td>\n",
              "      <td>8.0</td>\n",
              "      <td>756</td>\n",
              "      <td>767</td>\n",
              "    </tr>\n",
              "    <tr>\n",
              "      <th>...</th>\n",
              "      <td>...</td>\n",
              "      <td>...</td>\n",
              "      <td>...</td>\n",
              "      <td>...</td>\n",
              "      <td>...</td>\n",
              "    </tr>\n",
              "    <tr>\n",
              "      <th>119879</th>\n",
              "      <td>235398</td>\n",
              "      <td>20899</td>\n",
              "      <td>8.0</td>\n",
              "      <td>672</td>\n",
              "      <td>494</td>\n",
              "    </tr>\n",
              "    <tr>\n",
              "      <th>103694</th>\n",
              "      <td>202232</td>\n",
              "      <td>1117</td>\n",
              "      <td>7.0</td>\n",
              "      <td>575</td>\n",
              "      <td>85</td>\n",
              "    </tr>\n",
              "    <tr>\n",
              "      <th>131932</th>\n",
              "      <td>262563</td>\n",
              "      <td>33161</td>\n",
              "      <td>7.0</td>\n",
              "      <td>745</td>\n",
              "      <td>2285</td>\n",
              "    </tr>\n",
              "    <tr>\n",
              "      <th>146867</th>\n",
              "      <td>287737</td>\n",
              "      <td>28619</td>\n",
              "      <td>6.0</td>\n",
              "      <td>824</td>\n",
              "      <td>1489</td>\n",
              "    </tr>\n",
              "    <tr>\n",
              "      <th>121958</th>\n",
              "      <td>240433</td>\n",
              "      <td>40454</td>\n",
              "      <td>7.0</td>\n",
              "      <td>686</td>\n",
              "      <td>3250</td>\n",
              "    </tr>\n",
              "  </tbody>\n",
              "</table>\n",
              "<p>185054 rows × 5 columns</p>\n",
              "</div>\n",
              "      <button class=\"colab-df-convert\" onclick=\"convertToInteractive('df-cadc3bf5-6443-47cf-a188-c2fe7d3d439f')\"\n",
              "              title=\"Convert this dataframe to an interactive table.\"\n",
              "              style=\"display:none;\">\n",
              "        \n",
              "  <svg xmlns=\"http://www.w3.org/2000/svg\" height=\"24px\"viewBox=\"0 0 24 24\"\n",
              "       width=\"24px\">\n",
              "    <path d=\"M0 0h24v24H0V0z\" fill=\"none\"/>\n",
              "    <path d=\"M18.56 5.44l.94 2.06.94-2.06 2.06-.94-2.06-.94-.94-2.06-.94 2.06-2.06.94zm-11 1L8.5 8.5l.94-2.06 2.06-.94-2.06-.94L8.5 2.5l-.94 2.06-2.06.94zm10 10l.94 2.06.94-2.06 2.06-.94-2.06-.94-.94-2.06-.94 2.06-2.06.94z\"/><path d=\"M17.41 7.96l-1.37-1.37c-.4-.4-.92-.59-1.43-.59-.52 0-1.04.2-1.43.59L10.3 9.45l-7.72 7.72c-.78.78-.78 2.05 0 2.83L4 21.41c.39.39.9.59 1.41.59.51 0 1.02-.2 1.41-.59l7.78-7.78 2.81-2.81c.8-.78.8-2.07 0-2.86zM5.41 20L4 18.59l7.72-7.72 1.47 1.35L5.41 20z\"/>\n",
              "  </svg>\n",
              "      </button>\n",
              "      \n",
              "  <style>\n",
              "    .colab-df-container {\n",
              "      display:flex;\n",
              "      flex-wrap:wrap;\n",
              "      gap: 12px;\n",
              "    }\n",
              "\n",
              "    .colab-df-convert {\n",
              "      background-color: #E8F0FE;\n",
              "      border: none;\n",
              "      border-radius: 50%;\n",
              "      cursor: pointer;\n",
              "      display: none;\n",
              "      fill: #1967D2;\n",
              "      height: 32px;\n",
              "      padding: 0 0 0 0;\n",
              "      width: 32px;\n",
              "    }\n",
              "\n",
              "    .colab-df-convert:hover {\n",
              "      background-color: #E2EBFA;\n",
              "      box-shadow: 0px 1px 2px rgba(60, 64, 67, 0.3), 0px 1px 3px 1px rgba(60, 64, 67, 0.15);\n",
              "      fill: #174EA6;\n",
              "    }\n",
              "\n",
              "    [theme=dark] .colab-df-convert {\n",
              "      background-color: #3B4455;\n",
              "      fill: #D2E3FC;\n",
              "    }\n",
              "\n",
              "    [theme=dark] .colab-df-convert:hover {\n",
              "      background-color: #434B5C;\n",
              "      box-shadow: 0px 1px 3px 1px rgba(0, 0, 0, 0.15);\n",
              "      filter: drop-shadow(0px 1px 2px rgba(0, 0, 0, 0.3));\n",
              "      fill: #FFFFFF;\n",
              "    }\n",
              "  </style>\n",
              "\n",
              "      <script>\n",
              "        const buttonEl =\n",
              "          document.querySelector('#df-cadc3bf5-6443-47cf-a188-c2fe7d3d439f button.colab-df-convert');\n",
              "        buttonEl.style.display =\n",
              "          google.colab.kernel.accessAllowed ? 'block' : 'none';\n",
              "\n",
              "        async function convertToInteractive(key) {\n",
              "          const element = document.querySelector('#df-cadc3bf5-6443-47cf-a188-c2fe7d3d439f');\n",
              "          const dataTable =\n",
              "            await google.colab.kernel.invokeFunction('convertToInteractive',\n",
              "                                                     [key], {});\n",
              "          if (!dataTable) return;\n",
              "\n",
              "          const docLinkHtml = 'Like what you see? Visit the ' +\n",
              "            '<a target=\"_blank\" href=https://colab.research.google.com/notebooks/data_table.ipynb>data table notebook</a>'\n",
              "            + ' to learn more about interactive tables.';\n",
              "          element.innerHTML = '';\n",
              "          dataTable['output_type'] = 'display_data';\n",
              "          await google.colab.output.renderOutput(dataTable, element);\n",
              "          const docLink = document.createElement('div');\n",
              "          docLink.innerHTML = docLinkHtml;\n",
              "          element.appendChild(docLink);\n",
              "        }\n",
              "      </script>\n",
              "    </div>\n",
              "  </div>\n",
              "  "
            ]
          },
          "metadata": {},
          "execution_count": 8
        }
      ],
      "source": [
        "# Mengacak dataset\n",
        "df_rating = df_rating.sample(frac=1, random_state=42)\n",
        "df_rating"
      ]
    },
    {
      "cell_type": "markdown",
      "metadata": {
        "id": "3_qE026HZXAY"
      },
      "source": [
        "splitting data"
      ]
    },
    {
      "cell_type": "code",
      "execution_count": 9,
      "metadata": {
        "colab": {
          "base_uri": "https://localhost:8080/"
        },
        "id": "MvrZ7xMsZXAY",
        "outputId": "53a889c4-f93c-44ee-b119-d0df02a44dc9"
      },
      "outputs": [
        {
          "output_type": "stream",
          "name": "stdout",
          "text": [
            "[[ 780 1512]\n",
            " [ 973 2723]\n",
            " [ 796 2042]\n",
            " [ 896 4409]\n",
            " [ 756  767]\n",
            " [ 469 1718]\n",
            " [ 358 1150]\n",
            " [ 822 1473]\n",
            " [ 444  615]\n",
            " [ 314  482]] [1.         1.         0.44444444 0.66666667 0.77777778 0.66666667\n",
            " 0.55555556 0.66666667 0.77777778 1.        ]\n"
          ]
        }
      ],
      "source": [
        "# Membuat variabel x untuk mencocokkan data user_id dan anime_id menjadi satu value\n",
        "x = df_rating[['user', 'anime']].values\n",
        " \n",
        "# Membuat variabel y untuk membuat rating dari hasil \n",
        "y = df_rating['rating'].apply(lambda x: (x - min_rating) / (max_rating - min_rating)).values\n",
        " \n",
        "# Membagi menjadi 90% data train dan 10% data validasi\n",
        "train_indices = int(0.9 * df_rating.shape[0])\n",
        "x_train, x_val, y_train, y_val = (\n",
        "    x[:train_indices],\n",
        "    x[train_indices:],\n",
        "    y[:train_indices],\n",
        "    y[train_indices:]\n",
        ")\n",
        "\n",
        "print(x[:10], y[:10])"
      ]
    },
    {
      "cell_type": "code",
      "execution_count": 10,
      "metadata": {
        "colab": {
          "base_uri": "https://localhost:8080/"
        },
        "id": "Lm6uYPwBZXAY",
        "outputId": "58ea7405-7ad2-455a-f68a-b03b7cd77fb3"
      },
      "outputs": [
        {
          "output_type": "stream",
          "name": "stdout",
          "text": [
            "Total # of sample in whole dataset: 185054\n",
            "Total # of sample in train dataset: 166548\n",
            "Total # of sample in test dataset: 18506\n"
          ]
        }
      ],
      "source": [
        "print(f'Total # of sample in whole dataset: {len(x)}')\n",
        "print(f'Total # of sample in train dataset: {len(x_train)}')\n",
        "print(f'Total # of sample in test dataset: {len(x_val)}')"
      ]
    },
    {
      "cell_type": "markdown",
      "metadata": {
        "id": "hOmaOcUfZXAY"
      },
      "source": [
        "# Model Development"
      ]
    },
    {
      "cell_type": "code",
      "execution_count": 11,
      "metadata": {
        "id": "LZ5RjXn1ZXAY"
      },
      "outputs": [],
      "source": [
        "class RecommenderNet(tf.keras.Model):\n",
        " \n",
        "  # Insialisasi fungsi\n",
        "  def __init__(self, num_users, num_anime, embedding_size, **kwargs):\n",
        "    super(RecommenderNet, self).__init__(**kwargs)\n",
        "    self.num_users = num_users\n",
        "    self.num_anime = num_anime\n",
        "    self.embedding_size = embedding_size\n",
        "    self.user_embedding = tf.keras.layers.Embedding( # layer embedding user\n",
        "        num_users,\n",
        "        embedding_size,\n",
        "        embeddings_initializer = 'he_normal',\n",
        "        embeddings_regularizer = tf.keras.regularizers.l2(1e-6)\n",
        "    )\n",
        "    self.user_bias = tf.keras.layers.Embedding(num_users, 1) # layer embedding user bias\n",
        "    self.anime_embedding = tf.keras.layers.Embedding( # layer embeddings anime\n",
        "        num_anime,\n",
        "        embedding_size,\n",
        "        embeddings_initializer = 'he_normal',\n",
        "        embeddings_regularizer = tf.keras.regularizers.l2(1e-6)\n",
        "    )\n",
        "    self.anime_bias = tf.keras.layers.Embedding(num_anime, 1) # layer embedding anime bias\n",
        "    self.dense1 = tf.keras.layers.Dense(32, activation=tf.nn.relu) # layer dense\n",
        "    self.dense2 = tf.keras.layers.Dense(1, activation=tf.nn.sigmoid) # layer output activation sigmoid\n",
        " \n",
        "  def call(self, inputs):\n",
        "    user_vector = self.user_embedding(inputs[:,0]) # memanggil layer embedding 1\n",
        "    user_bias = self.user_bias(inputs[:, 0]) # memanggil layer embedding 2\n",
        "    anime_vector = self.anime_embedding(inputs[:, 1]) # memanggil layer embedding 3\n",
        "    anime_bias = self.anime_bias(inputs[:, 1]) # memanggil layer embedding 4\n",
        " \n",
        "    dot_user_anime = tf.tensordot(user_vector, anime_vector, 2) \n",
        " \n",
        "    x = dot_user_anime + user_bias + anime_bias\n",
        "    x = self.dense1(x)\n",
        "    x = self.dense2(x)\n",
        "    return x"
      ]
    },
    {
      "cell_type": "code",
      "execution_count": 12,
      "metadata": {
        "id": "IRC62Nh4P80I"
      },
      "outputs": [],
      "source": [
        "def create_model(optimizer, embedding_size):\n",
        "    tf_model = RecommenderNet(num_users, num_anime, embedding_size)\n",
        "    tf_model.compile(\n",
        "        loss = tf.keras.losses.BinaryCrossentropy(),\n",
        "        optimizer = optimizer,\n",
        "        metrics=[tf.keras.metrics.RootMeanSquaredError()]\n",
        "    )\n",
        "    return tf_model"
      ]
    },
    {
      "cell_type": "code",
      "execution_count": 13,
      "metadata": {
        "id": "F4eH1mx4P80I"
      },
      "outputs": [],
      "source": [
        "# Memulai training\n",
        "import warnings\n",
        "warnings.filterwarnings('ignore')"
      ]
    },
    {
      "cell_type": "code",
      "execution_count": 22,
      "metadata": {
        "colab": {
          "base_uri": "https://localhost:8080/"
        },
        "id": "eOL43pypP80J",
        "outputId": "43b01a0c-866f-4d80-9e12-40e64ce0804e"
      },
      "outputs": [
        {
          "output_type": "stream",
          "name": "stdout",
          "text": [
            "Training Parameter:  {'optimizer': ['Adam', 'RMSprop'], 'embedding_size': [50, 100]}\n",
            "Start Training with optimizer: Adam embedding_size: 50\n",
            "Epoch 1/30\n",
            "2603/2603 [==============================] - 12s 4ms/step - loss: 0.5662 - root_mean_squared_error: 0.1665 - val_loss: 0.5597 - val_root_mean_squared_error: 0.1573\n",
            "Epoch 2/30\n",
            "2603/2603 [==============================] - 11s 4ms/step - loss: 0.5580 - root_mean_squared_error: 0.1561 - val_loss: 0.5547 - val_root_mean_squared_error: 0.1510\n",
            "Epoch 3/30\n",
            "2603/2603 [==============================] - 11s 4ms/step - loss: 0.5531 - root_mean_squared_error: 0.1500 - val_loss: 0.5519 - val_root_mean_squared_error: 0.1472\n",
            "Epoch 4/30\n",
            "2603/2603 [==============================] - 13s 5ms/step - loss: 0.5514 - root_mean_squared_error: 0.1475 - val_loss: 0.5507 - val_root_mean_squared_error: 0.1455\n",
            "Epoch 5/30\n",
            "2603/2603 [==============================] - 11s 4ms/step - loss: 0.5505 - root_mean_squared_error: 0.1460 - val_loss: 0.5498 - val_root_mean_squared_error: 0.1440\n",
            "Epoch 6/30\n",
            "2603/2603 [==============================] - 11s 4ms/step - loss: 0.5495 - root_mean_squared_error: 0.1445 - val_loss: 0.5493 - val_root_mean_squared_error: 0.1430\n",
            "Epoch 7/30\n",
            "2603/2603 [==============================] - 11s 4ms/step - loss: 0.5485 - root_mean_squared_error: 0.1430 - val_loss: 0.5491 - val_root_mean_squared_error: 0.1427\n",
            "Epoch 8/30\n",
            "2603/2603 [==============================] - 12s 4ms/step - loss: 0.5477 - root_mean_squared_error: 0.1416 - val_loss: 0.5492 - val_root_mean_squared_error: 0.1427\n",
            "Epoch 9/30\n",
            "2603/2603 [==============================] - 11s 4ms/step - loss: 0.5473 - root_mean_squared_error: 0.1410 - val_loss: 0.5485 - val_root_mean_squared_error: 0.1416\n",
            "Epoch 10/30\n",
            "2603/2603 [==============================] - 12s 4ms/step - loss: 0.5468 - root_mean_squared_error: 0.1403 - val_loss: 0.5479 - val_root_mean_squared_error: 0.1408\n",
            "Epoch 11/30\n",
            "2603/2603 [==============================] - 13s 5ms/step - loss: 0.5466 - root_mean_squared_error: 0.1399 - val_loss: 0.5477 - val_root_mean_squared_error: 0.1403\n",
            "Epoch 12/30\n",
            "2603/2603 [==============================] - 11s 4ms/step - loss: 0.5457 - root_mean_squared_error: 0.1386 - val_loss: 0.5482 - val_root_mean_squared_error: 0.1410\n",
            "Epoch 13/30\n",
            "2603/2603 [==============================] - 11s 4ms/step - loss: 0.5456 - root_mean_squared_error: 0.1384 - val_loss: 0.5477 - val_root_mean_squared_error: 0.1403\n",
            "Epoch 14/30\n",
            "2603/2603 [==============================] - 11s 4ms/step - loss: 0.5454 - root_mean_squared_error: 0.1381 - val_loss: 0.5475 - val_root_mean_squared_error: 0.1399\n",
            "Epoch 15/30\n",
            "2603/2603 [==============================] - 11s 4ms/step - loss: 0.5448 - root_mean_squared_error: 0.1373 - val_loss: 0.5475 - val_root_mean_squared_error: 0.1400\n",
            "Epoch 16/30\n",
            "2603/2603 [==============================] - 12s 4ms/step - loss: 0.5447 - root_mean_squared_error: 0.1370 - val_loss: 0.5471 - val_root_mean_squared_error: 0.1395\n",
            "Epoch 17/30\n",
            "2603/2603 [==============================] - 11s 4ms/step - loss: 0.5441 - root_mean_squared_error: 0.1364 - val_loss: 0.5466 - val_root_mean_squared_error: 0.1387\n",
            "Epoch 18/30\n",
            "2603/2603 [==============================] - 11s 4ms/step - loss: 0.5438 - root_mean_squared_error: 0.1358 - val_loss: 0.5467 - val_root_mean_squared_error: 0.1389\n",
            "Epoch 19/30\n",
            "2603/2603 [==============================] - 11s 4ms/step - loss: 0.5434 - root_mean_squared_error: 0.1353 - val_loss: 0.5459 - val_root_mean_squared_error: 0.1378\n",
            "Epoch 20/30\n",
            "2603/2603 [==============================] - 11s 4ms/step - loss: 0.5433 - root_mean_squared_error: 0.1352 - val_loss: 0.5460 - val_root_mean_squared_error: 0.1380\n",
            "Epoch 21/30\n",
            "2603/2603 [==============================] - 12s 4ms/step - loss: 0.5431 - root_mean_squared_error: 0.1348 - val_loss: 0.5460 - val_root_mean_squared_error: 0.1378\n",
            "Epoch 22/30\n",
            "2603/2603 [==============================] - 11s 4ms/step - loss: 0.5427 - root_mean_squared_error: 0.1344 - val_loss: 0.5457 - val_root_mean_squared_error: 0.1376\n",
            "Epoch 23/30\n",
            "2603/2603 [==============================] - 11s 4ms/step - loss: 0.5426 - root_mean_squared_error: 0.1342 - val_loss: 0.5457 - val_root_mean_squared_error: 0.1376\n",
            "Epoch 24/30\n",
            "2603/2603 [==============================] - 11s 4ms/step - loss: 0.5424 - root_mean_squared_error: 0.1340 - val_loss: 0.5452 - val_root_mean_squared_error: 0.1370\n",
            "Epoch 25/30\n",
            "2603/2603 [==============================] - 12s 4ms/step - loss: 0.5421 - root_mean_squared_error: 0.1336 - val_loss: 0.5455 - val_root_mean_squared_error: 0.1374\n",
            "Epoch 26/30\n",
            "2603/2603 [==============================] - 11s 4ms/step - loss: 0.5418 - root_mean_squared_error: 0.1331 - val_loss: 0.5451 - val_root_mean_squared_error: 0.1369\n",
            "Epoch 27/30\n",
            "2603/2603 [==============================] - 12s 4ms/step - loss: 0.5415 - root_mean_squared_error: 0.1327 - val_loss: 0.5447 - val_root_mean_squared_error: 0.1363\n",
            "Epoch 28/30\n",
            "2603/2603 [==============================] - 12s 4ms/step - loss: 0.5417 - root_mean_squared_error: 0.1330 - val_loss: 0.5454 - val_root_mean_squared_error: 0.1373\n",
            "Epoch 29/30\n",
            "2603/2603 [==============================] - 11s 4ms/step - loss: 0.5415 - root_mean_squared_error: 0.1328 - val_loss: 0.5449 - val_root_mean_squared_error: 0.1367\n",
            "Epoch 30/30\n",
            "2603/2603 [==============================] - 11s 4ms/step - loss: 0.5412 - root_mean_squared_error: 0.1323 - val_loss: 0.5448 - val_root_mean_squared_error: 0.1366\n",
            "Start Training with optimizer: Adam embedding_size: 100\n",
            "Epoch 1/30\n",
            "2603/2603 [==============================] - 12s 4ms/step - loss: 0.5706 - root_mean_squared_error: 0.1705 - val_loss: 0.5680 - val_root_mean_squared_error: 0.1658\n",
            "Epoch 2/30\n",
            "2603/2603 [==============================] - 11s 4ms/step - loss: 0.5671 - root_mean_squared_error: 0.1653 - val_loss: 0.5614 - val_root_mean_squared_error: 0.1579\n",
            "Epoch 3/30\n",
            "2603/2603 [==============================] - 11s 4ms/step - loss: 0.5620 - root_mean_squared_error: 0.1593 - val_loss: 0.5589 - val_root_mean_squared_error: 0.1544\n",
            "Epoch 4/30\n",
            "2603/2603 [==============================] - 11s 4ms/step - loss: 0.5597 - root_mean_squared_error: 0.1562 - val_loss: 0.5572 - val_root_mean_squared_error: 0.1518\n",
            "Epoch 5/30\n",
            "2603/2603 [==============================] - 13s 5ms/step - loss: 0.5586 - root_mean_squared_error: 0.1543 - val_loss: 0.5566 - val_root_mean_squared_error: 0.1509\n",
            "Epoch 6/30\n",
            "2603/2603 [==============================] - 11s 4ms/step - loss: 0.5572 - root_mean_squared_error: 0.1521 - val_loss: 0.5560 - val_root_mean_squared_error: 0.1497\n",
            "Epoch 7/30\n",
            "2603/2603 [==============================] - 12s 4ms/step - loss: 0.5562 - root_mean_squared_error: 0.1506 - val_loss: 0.5556 - val_root_mean_squared_error: 0.1485\n",
            "Epoch 8/30\n",
            "2603/2603 [==============================] - 11s 4ms/step - loss: 0.5562 - root_mean_squared_error: 0.1501 - val_loss: 0.5538 - val_root_mean_squared_error: 0.1463\n",
            "Epoch 9/30\n",
            "2603/2603 [==============================] - 11s 4ms/step - loss: 0.5546 - root_mean_squared_error: 0.1482 - val_loss: 0.5546 - val_root_mean_squared_error: 0.1475\n",
            "Epoch 10/30\n",
            "2603/2603 [==============================] - 11s 4ms/step - loss: 0.5541 - root_mean_squared_error: 0.1473 - val_loss: 0.5528 - val_root_mean_squared_error: 0.1446\n",
            "Epoch 11/30\n",
            "2603/2603 [==============================] - 11s 4ms/step - loss: 0.5534 - root_mean_squared_error: 0.1462 - val_loss: 0.5523 - val_root_mean_squared_error: 0.1439\n",
            "Epoch 12/30\n",
            "2603/2603 [==============================] - 11s 4ms/step - loss: 0.5529 - root_mean_squared_error: 0.1455 - val_loss: 0.5523 - val_root_mean_squared_error: 0.1437\n",
            "Epoch 13/30\n",
            "2603/2603 [==============================] - 11s 4ms/step - loss: 0.5521 - root_mean_squared_error: 0.1444 - val_loss: 0.5525 - val_root_mean_squared_error: 0.1438\n",
            "Epoch 14/30\n",
            "2603/2603 [==============================] - 11s 4ms/step - loss: 0.5512 - root_mean_squared_error: 0.1432 - val_loss: 0.5514 - val_root_mean_squared_error: 0.1424\n",
            "Epoch 15/30\n",
            "2603/2603 [==============================] - 11s 4ms/step - loss: 0.5506 - root_mean_squared_error: 0.1424 - val_loss: 0.5513 - val_root_mean_squared_error: 0.1424\n",
            "Epoch 16/30\n",
            "2603/2603 [==============================] - 11s 4ms/step - loss: 0.5502 - root_mean_squared_error: 0.1419 - val_loss: 0.5510 - val_root_mean_squared_error: 0.1418\n",
            "Epoch 17/30\n",
            "2603/2603 [==============================] - 11s 4ms/step - loss: 0.5500 - root_mean_squared_error: 0.1415 - val_loss: 0.5507 - val_root_mean_squared_error: 0.1415\n",
            "Epoch 18/30\n",
            "2603/2603 [==============================] - 12s 4ms/step - loss: 0.5498 - root_mean_squared_error: 0.1413 - val_loss: 0.5504 - val_root_mean_squared_error: 0.1411\n",
            "Epoch 19/30\n",
            "2603/2603 [==============================] - 11s 4ms/step - loss: 0.5492 - root_mean_squared_error: 0.1406 - val_loss: 0.5506 - val_root_mean_squared_error: 0.1414\n",
            "Epoch 20/30\n",
            "2603/2603 [==============================] - 12s 4ms/step - loss: 0.5490 - root_mean_squared_error: 0.1403 - val_loss: 0.5501 - val_root_mean_squared_error: 0.1407\n",
            "Epoch 21/30\n",
            "2603/2603 [==============================] - 11s 4ms/step - loss: 0.5484 - root_mean_squared_error: 0.1395 - val_loss: 0.5496 - val_root_mean_squared_error: 0.1400\n",
            "Epoch 22/30\n",
            "2603/2603 [==============================] - 12s 4ms/step - loss: 0.5478 - root_mean_squared_error: 0.1387 - val_loss: 0.5495 - val_root_mean_squared_error: 0.1401\n",
            "Epoch 23/30\n",
            "2603/2603 [==============================] - 11s 4ms/step - loss: 0.5477 - root_mean_squared_error: 0.1385 - val_loss: 0.5487 - val_root_mean_squared_error: 0.1389\n",
            "Epoch 24/30\n",
            "2603/2603 [==============================] - 11s 4ms/step - loss: 0.5471 - root_mean_squared_error: 0.1378 - val_loss: 0.5487 - val_root_mean_squared_error: 0.1391\n",
            "Epoch 25/30\n",
            "2603/2603 [==============================] - 11s 4ms/step - loss: 0.5470 - root_mean_squared_error: 0.1377 - val_loss: 0.5481 - val_root_mean_squared_error: 0.1382\n",
            "Epoch 26/30\n",
            "2603/2603 [==============================] - 11s 4ms/step - loss: 0.5467 - root_mean_squared_error: 0.1374 - val_loss: 0.5481 - val_root_mean_squared_error: 0.1384\n",
            "Epoch 27/30\n",
            "2603/2603 [==============================] - 11s 4ms/step - loss: 0.5463 - root_mean_squared_error: 0.1369 - val_loss: 0.5479 - val_root_mean_squared_error: 0.1380\n",
            "Epoch 28/30\n",
            "2603/2603 [==============================] - 11s 4ms/step - loss: 0.5463 - root_mean_squared_error: 0.1368 - val_loss: 0.5477 - val_root_mean_squared_error: 0.1376\n",
            "Epoch 29/30\n",
            "2603/2603 [==============================] - 11s 4ms/step - loss: 0.5457 - root_mean_squared_error: 0.1360 - val_loss: 0.5475 - val_root_mean_squared_error: 0.1374\n",
            "Epoch 30/30\n",
            "2603/2603 [==============================] - 11s 4ms/step - loss: 0.5455 - root_mean_squared_error: 0.1359 - val_loss: 0.5474 - val_root_mean_squared_error: 0.1375\n",
            "Start Training with optimizer: RMSprop embedding_size: 50\n",
            "Epoch 1/30\n",
            "2603/2603 [==============================] - 12s 4ms/step - loss: 0.5605 - root_mean_squared_error: 0.1607 - val_loss: 0.5516 - val_root_mean_squared_error: 0.1489\n",
            "Epoch 2/30\n",
            "2603/2603 [==============================] - 11s 4ms/step - loss: 0.5489 - root_mean_squared_error: 0.1463 - val_loss: 0.5491 - val_root_mean_squared_error: 0.1456\n",
            "Epoch 3/30\n",
            "2603/2603 [==============================] - 11s 4ms/step - loss: 0.5463 - root_mean_squared_error: 0.1428 - val_loss: 0.5476 - val_root_mean_squared_error: 0.1436\n",
            "Epoch 4/30\n",
            "2603/2603 [==============================] - 11s 4ms/step - loss: 0.5450 - root_mean_squared_error: 0.1411 - val_loss: 0.5473 - val_root_mean_squared_error: 0.1431\n",
            "Epoch 5/30\n",
            "2603/2603 [==============================] - 11s 4ms/step - loss: 0.5439 - root_mean_squared_error: 0.1393 - val_loss: 0.5464 - val_root_mean_squared_error: 0.1418\n",
            "Epoch 6/30\n",
            "2603/2603 [==============================] - 11s 4ms/step - loss: 0.5430 - root_mean_squared_error: 0.1381 - val_loss: 0.5446 - val_root_mean_squared_error: 0.1392\n",
            "Epoch 7/30\n",
            "2603/2603 [==============================] - 11s 4ms/step - loss: 0.5422 - root_mean_squared_error: 0.1370 - val_loss: 0.5441 - val_root_mean_squared_error: 0.1383\n",
            "Epoch 8/30\n",
            "2603/2603 [==============================] - 12s 5ms/step - loss: 0.5418 - root_mean_squared_error: 0.1363 - val_loss: 0.5439 - val_root_mean_squared_error: 0.1382\n",
            "Epoch 9/30\n",
            "2603/2603 [==============================] - 12s 5ms/step - loss: 0.5410 - root_mean_squared_error: 0.1352 - val_loss: 0.5439 - val_root_mean_squared_error: 0.1381\n",
            "Epoch 10/30\n",
            "2603/2603 [==============================] - 12s 4ms/step - loss: 0.5409 - root_mean_squared_error: 0.1349 - val_loss: 0.5434 - val_root_mean_squared_error: 0.1375\n",
            "Epoch 11/30\n",
            "2603/2603 [==============================] - 11s 4ms/step - loss: 0.5405 - root_mean_squared_error: 0.1344 - val_loss: 0.5430 - val_root_mean_squared_error: 0.1368\n",
            "Epoch 12/30\n",
            "2603/2603 [==============================] - 12s 5ms/step - loss: 0.5402 - root_mean_squared_error: 0.1339 - val_loss: 0.5429 - val_root_mean_squared_error: 0.1366\n",
            "Epoch 13/30\n",
            "2603/2603 [==============================] - 12s 5ms/step - loss: 0.5399 - root_mean_squared_error: 0.1335 - val_loss: 0.5432 - val_root_mean_squared_error: 0.1368\n",
            "Epoch 14/30\n",
            "2603/2603 [==============================] - 11s 4ms/step - loss: 0.5397 - root_mean_squared_error: 0.1332 - val_loss: 0.5429 - val_root_mean_squared_error: 0.1367\n",
            "Epoch 15/30\n",
            "2603/2603 [==============================] - 12s 4ms/step - loss: 0.5396 - root_mean_squared_error: 0.1329 - val_loss: 0.5428 - val_root_mean_squared_error: 0.1363\n",
            "Epoch 16/30\n",
            "2603/2603 [==============================] - 12s 4ms/step - loss: 0.5395 - root_mean_squared_error: 0.1328 - val_loss: 0.5426 - val_root_mean_squared_error: 0.1361\n",
            "Epoch 17/30\n",
            "2603/2603 [==============================] - 11s 4ms/step - loss: 0.5393 - root_mean_squared_error: 0.1325 - val_loss: 0.5426 - val_root_mean_squared_error: 0.1361\n",
            "Epoch 18/30\n",
            "2603/2603 [==============================] - 11s 4ms/step - loss: 0.5392 - root_mean_squared_error: 0.1323 - val_loss: 0.5425 - val_root_mean_squared_error: 0.1358\n",
            "Epoch 19/30\n",
            "2603/2603 [==============================] - 12s 4ms/step - loss: 0.5390 - root_mean_squared_error: 0.1320 - val_loss: 0.5424 - val_root_mean_squared_error: 0.1357\n",
            "Epoch 20/30\n",
            "2603/2603 [==============================] - 12s 4ms/step - loss: 0.5389 - root_mean_squared_error: 0.1317 - val_loss: 0.5422 - val_root_mean_squared_error: 0.1355\n",
            "Epoch 21/30\n",
            "2603/2603 [==============================] - 11s 4ms/step - loss: 0.5388 - root_mean_squared_error: 0.1316 - val_loss: 0.5422 - val_root_mean_squared_error: 0.1355\n",
            "Epoch 22/30\n",
            "2603/2603 [==============================] - 12s 4ms/step - loss: 0.5388 - root_mean_squared_error: 0.1316 - val_loss: 0.5422 - val_root_mean_squared_error: 0.1353\n",
            "Epoch 23/30\n",
            "2603/2603 [==============================] - 12s 5ms/step - loss: 0.5387 - root_mean_squared_error: 0.1315 - val_loss: 0.5423 - val_root_mean_squared_error: 0.1356\n",
            "Epoch 24/30\n",
            "2603/2603 [==============================] - 11s 4ms/step - loss: 0.5386 - root_mean_squared_error: 0.1313 - val_loss: 0.5421 - val_root_mean_squared_error: 0.1353\n",
            "Epoch 25/30\n",
            "2603/2603 [==============================] - 12s 4ms/step - loss: 0.5385 - root_mean_squared_error: 0.1312 - val_loss: 0.5423 - val_root_mean_squared_error: 0.1355\n",
            "Epoch 26/30\n",
            "2603/2603 [==============================] - 13s 5ms/step - loss: 0.5385 - root_mean_squared_error: 0.1311 - val_loss: 0.5420 - val_root_mean_squared_error: 0.1351\n",
            "Epoch 27/30\n",
            "2603/2603 [==============================] - 12s 5ms/step - loss: 0.5385 - root_mean_squared_error: 0.1310 - val_loss: 0.5420 - val_root_mean_squared_error: 0.1351\n",
            "Epoch 28/30\n",
            "2603/2603 [==============================] - 12s 4ms/step - loss: 0.5384 - root_mean_squared_error: 0.1310 - val_loss: 0.5420 - val_root_mean_squared_error: 0.1351\n",
            "Epoch 29/30\n",
            "2603/2603 [==============================] - 12s 4ms/step - loss: 0.5384 - root_mean_squared_error: 0.1309 - val_loss: 0.5418 - val_root_mean_squared_error: 0.1347\n",
            "Epoch 30/30\n",
            "2603/2603 [==============================] - 12s 4ms/step - loss: 0.5383 - root_mean_squared_error: 0.1308 - val_loss: 0.5419 - val_root_mean_squared_error: 0.1349\n",
            "Start Training with optimizer: RMSprop embedding_size: 100\n",
            "Epoch 1/30\n",
            "2603/2603 [==============================] - 13s 4ms/step - loss: 0.5646 - root_mean_squared_error: 0.1654 - val_loss: 0.5565 - val_root_mean_squared_error: 0.1549\n",
            "Epoch 2/30\n",
            "2603/2603 [==============================] - 12s 5ms/step - loss: 0.5530 - root_mean_squared_error: 0.1516 - val_loss: 0.5521 - val_root_mean_squared_error: 0.1494\n",
            "Epoch 3/30\n",
            "2603/2603 [==============================] - 12s 5ms/step - loss: 0.5499 - root_mean_squared_error: 0.1476 - val_loss: 0.5502 - val_root_mean_squared_error: 0.1469\n",
            "Epoch 4/30\n",
            "2603/2603 [==============================] - 12s 4ms/step - loss: 0.5479 - root_mean_squared_error: 0.1448 - val_loss: 0.5489 - val_root_mean_squared_error: 0.1453\n",
            "Epoch 5/30\n",
            "2603/2603 [==============================] - 12s 4ms/step - loss: 0.5469 - root_mean_squared_error: 0.1435 - val_loss: 0.5480 - val_root_mean_squared_error: 0.1440\n",
            "Epoch 6/30\n",
            "2603/2603 [==============================] - 12s 4ms/step - loss: 0.5456 - root_mean_squared_error: 0.1417 - val_loss: 0.5468 - val_root_mean_squared_error: 0.1425\n",
            "Epoch 7/30\n",
            "2603/2603 [==============================] - 12s 4ms/step - loss: 0.5447 - root_mean_squared_error: 0.1404 - val_loss: 0.5457 - val_root_mean_squared_error: 0.1407\n",
            "Epoch 8/30\n",
            "2603/2603 [==============================] - 12s 4ms/step - loss: 0.5441 - root_mean_squared_error: 0.1395 - val_loss: 0.5456 - val_root_mean_squared_error: 0.1404\n",
            "Epoch 9/30\n",
            "2603/2603 [==============================] - 12s 4ms/step - loss: 0.5434 - root_mean_squared_error: 0.1386 - val_loss: 0.5449 - val_root_mean_squared_error: 0.1396\n",
            "Epoch 10/30\n",
            "2603/2603 [==============================] - 12s 4ms/step - loss: 0.5428 - root_mean_squared_error: 0.1378 - val_loss: 0.5445 - val_root_mean_squared_error: 0.1389\n",
            "Epoch 11/30\n",
            "2603/2603 [==============================] - 12s 4ms/step - loss: 0.5423 - root_mean_squared_error: 0.1369 - val_loss: 0.5446 - val_root_mean_squared_error: 0.1390\n",
            "Epoch 12/30\n",
            "2603/2603 [==============================] - 12s 4ms/step - loss: 0.5419 - root_mean_squared_error: 0.1363 - val_loss: 0.5441 - val_root_mean_squared_error: 0.1383\n",
            "Epoch 13/30\n",
            "2603/2603 [==============================] - 12s 4ms/step - loss: 0.5416 - root_mean_squared_error: 0.1359 - val_loss: 0.5438 - val_root_mean_squared_error: 0.1380\n",
            "Epoch 14/30\n",
            "2603/2603 [==============================] - 12s 4ms/step - loss: 0.5413 - root_mean_squared_error: 0.1354 - val_loss: 0.5442 - val_root_mean_squared_error: 0.1383\n",
            "Epoch 15/30\n",
            "2603/2603 [==============================] - 12s 4ms/step - loss: 0.5409 - root_mean_squared_error: 0.1349 - val_loss: 0.5436 - val_root_mean_squared_error: 0.1375\n",
            "Epoch 16/30\n",
            "2603/2603 [==============================] - 12s 4ms/step - loss: 0.5406 - root_mean_squared_error: 0.1344 - val_loss: 0.5433 - val_root_mean_squared_error: 0.1371\n",
            "Epoch 17/30\n",
            "2603/2603 [==============================] - 12s 4ms/step - loss: 0.5404 - root_mean_squared_error: 0.1342 - val_loss: 0.5431 - val_root_mean_squared_error: 0.1367\n",
            "Epoch 18/30\n",
            "2603/2603 [==============================] - 12s 4ms/step - loss: 0.5402 - root_mean_squared_error: 0.1338 - val_loss: 0.5430 - val_root_mean_squared_error: 0.1366\n",
            "Epoch 19/30\n",
            "2603/2603 [==============================] - 12s 4ms/step - loss: 0.5401 - root_mean_squared_error: 0.1337 - val_loss: 0.5429 - val_root_mean_squared_error: 0.1363\n",
            "Epoch 20/30\n",
            "2603/2603 [==============================] - 12s 4ms/step - loss: 0.5399 - root_mean_squared_error: 0.1333 - val_loss: 0.5430 - val_root_mean_squared_error: 0.1364\n",
            "Epoch 21/30\n",
            "2603/2603 [==============================] - 13s 5ms/step - loss: 0.5397 - root_mean_squared_error: 0.1330 - val_loss: 0.5426 - val_root_mean_squared_error: 0.1360\n",
            "Epoch 22/30\n",
            "2603/2603 [==============================] - 12s 4ms/step - loss: 0.5396 - root_mean_squared_error: 0.1329 - val_loss: 0.5424 - val_root_mean_squared_error: 0.1357\n",
            "Epoch 23/30\n",
            "2603/2603 [==============================] - 12s 4ms/step - loss: 0.5394 - root_mean_squared_error: 0.1326 - val_loss: 0.5424 - val_root_mean_squared_error: 0.1356\n",
            "Epoch 24/30\n",
            "2603/2603 [==============================] - 12s 4ms/step - loss: 0.5394 - root_mean_squared_error: 0.1325 - val_loss: 0.5425 - val_root_mean_squared_error: 0.1358\n",
            "Epoch 25/30\n",
            "2603/2603 [==============================] - 12s 4ms/step - loss: 0.5392 - root_mean_squared_error: 0.1323 - val_loss: 0.5423 - val_root_mean_squared_error: 0.1356\n",
            "Epoch 26/30\n",
            "2603/2603 [==============================] - 12s 4ms/step - loss: 0.5391 - root_mean_squared_error: 0.1321 - val_loss: 0.5423 - val_root_mean_squared_error: 0.1355\n",
            "Epoch 27/30\n",
            "2603/2603 [==============================] - 12s 4ms/step - loss: 0.5391 - root_mean_squared_error: 0.1320 - val_loss: 0.5424 - val_root_mean_squared_error: 0.1356\n",
            "Epoch 28/30\n",
            "2603/2603 [==============================] - 12s 4ms/step - loss: 0.5390 - root_mean_squared_error: 0.1318 - val_loss: 0.5422 - val_root_mean_squared_error: 0.1353\n",
            "Epoch 29/30\n",
            "2603/2603 [==============================] - 12s 5ms/step - loss: 0.5389 - root_mean_squared_error: 0.1317 - val_loss: 0.5422 - val_root_mean_squared_error: 0.1354\n",
            "Epoch 30/30\n",
            "2603/2603 [==============================] - 12s 5ms/step - loss: 0.5388 - root_mean_squared_error: 0.1316 - val_loss: 0.5423 - val_root_mean_squared_error: 0.1354\n",
            "Finish Training\n"
          ]
        }
      ],
      "source": [
        "model_params = {\n",
        "    'optimizer': ['Adam', 'RMSprop'],\n",
        "    'embedding_size': [50, 100]\n",
        "}\n",
        "\n",
        "model = {}\n",
        "history = {}\n",
        "params = {}\n",
        "\n",
        "print(\"Training Parameter: \", model_params)\n",
        "\n",
        "k = 1\n",
        "for i in range(2):\n",
        "    for j in range(2):\n",
        "        opt = model_params['optimizer'][i]\n",
        "        emb_size = model_params['embedding_size'][j]\n",
        "\n",
        "        print(\"Start Training with optimizer: {} embedding_size: {}\".format(opt, emb_size))\n",
        "        model[\"model_\"+str(k)] = create_model(\n",
        "            optimizer=opt,\n",
        "            embedding_size=emb_size,\n",
        "        )\n",
        "\n",
        "        history[\"model_\"+str(k)] = model[\"model_\"+str(k)].fit(\n",
        "            x = x_train,\n",
        "            y = y_train,\n",
        "            batch_size = 64,\n",
        "            epochs = 30,\n",
        "            validation_data = (x_val, y_val)\n",
        "        )\n",
        "\n",
        "        params[\"model_\"+str(k)] = \"opt: {}, emb_size: {}\".format(opt, emb_size)\n",
        "        k = k + 1\n",
        "\n",
        "print(\"Finish Training\")"
      ]
    },
    {
      "cell_type": "markdown",
      "metadata": {
        "id": "XUg9k5MlZXAZ"
      },
      "source": [
        "# Evaluation"
      ]
    },
    {
      "cell_type": "code",
      "source": [
        "print(\"Modelname -- Parameter\")\n",
        "for k, v in params.items():\n",
        "  print(\"{} -- {}\".format(k, v))"
      ],
      "metadata": {
        "colab": {
          "base_uri": "https://localhost:8080/"
        },
        "id": "mONBYuOW5NdY",
        "outputId": "fb9cf775-0cae-4ed3-b828-a1e60bc04a84"
      },
      "execution_count": 23,
      "outputs": [
        {
          "output_type": "stream",
          "name": "stdout",
          "text": [
            "Modelname -- Parameter\n",
            "model_1 -- opt: Adam, emb_size: 50\n",
            "model_2 -- opt: Adam, emb_size: 100\n",
            "model_3 -- opt: RMSprop, emb_size: 50\n",
            "model_4 -- opt: RMSprop, emb_size: 100\n"
          ]
        }
      ]
    },
    {
      "cell_type": "markdown",
      "source": [
        "## Plot History Setiap Model"
      ],
      "metadata": {
        "id": "4G4ZDRs3HK5q"
      }
    },
    {
      "cell_type": "code",
      "source": [
        "list_modelnames = list(history.keys())\n",
        "\n",
        "dict_acc = {}\n",
        "dict_val_acc = {}\n",
        "dict_loss = {}\n",
        "dict_val_loss = {}\n",
        "\n",
        "for modelname, modelhistory in history.items():\n",
        "  dict_acc[modelname] = modelhistory.history['root_mean_squared_error']\n",
        "  dict_val_acc[modelname] = modelhistory.history['val_root_mean_squared_error']\n",
        "  dict_loss[modelname] = modelhistory.history['loss']\n",
        "  dict_val_loss[modelname] = modelhistory.history['val_loss']\n",
        "\n",
        "label_plot = list_modelnames\n",
        "marker_plot = ['o','x','v','^']"
      ],
      "metadata": {
        "id": "uC5srZAk8AKs"
      },
      "execution_count": 26,
      "outputs": []
    },
    {
      "cell_type": "code",
      "source": [
        "plt.figure(figsize=(15, 16))\n",
        "plt.subplot(2, 1, 1)\n",
        "for i in range(len(list_modelnames)):\n",
        "  plt.plot(dict_acc[list_modelnames[i]], label=label_plot[i], marker=marker_plot[i], markersize=6, alpha=0.6)\n",
        "\n",
        "plt.legend(loc='lower right')\n",
        "plt.ylabel('RMSE')\n",
        "plt.title('Training RMSE')\n",
        "\n",
        "plt.subplot(2, 1, 2)\n",
        "for i in range(len(list_modelnames)):\n",
        "  plt.plot(dict_val_acc[list_modelnames[i]], label=label_plot[i], marker=marker_plot[i], markersize=6, alpha=0.6)\n",
        "\n",
        "plt.legend(loc='lower right')\n",
        "plt.ylabel('RMSE')\n",
        "plt.title('Validation RMSE')\n",
        "plt.xlabel('epoch')\n",
        "plt.savefig('acc_all_model.png')\n",
        "\n",
        "plt.show()"
      ],
      "metadata": {
        "colab": {
          "base_uri": "https://localhost:8080/",
          "height": 948
        },
        "id": "H0iIk-R7D00K",
        "outputId": "e7cb89db-c35d-49d0-8ffd-3c5aa80ef697"
      },
      "execution_count": 28,
      "outputs": [
        {
          "output_type": "display_data",
          "data": {
            "text/plain": [
              "<Figure size 1080x1152 with 2 Axes>"
            ],
            "image/png": "[encoded data removed]"
          },
          "metadata": {
            "needs_background": "light"
          }
        }
      ]
    },
    {
      "cell_type": "code",
      "source": [
        "plt.figure(figsize=(15, 16))\n",
        "plt.subplot(2, 1, 1)\n",
        "\n",
        "for i in range(len(list_modelnames)):\n",
        "  plt.plot(dict_loss[list_modelnames[i]], label=label_plot[i], marker=marker_plot[i], markersize=6, alpha=0.6)\n",
        "\n",
        "plt.legend(loc='upper right')\n",
        "plt.ylabel('Cross Entropy')\n",
        "plt.title('Training Loss')\n",
        "\n",
        "plt.subplot(2, 1, 2)\n",
        "\n",
        "for i in range(len(list_modelnames)):\n",
        "  plt.plot(dict_val_loss[list_modelnames[i]], label=label_plot[i], marker=marker_plot[i], markersize=6, alpha=0.6)\n",
        "  \n",
        "plt.legend(loc='upper right')\n",
        "plt.ylabel('Cross Entropy')\n",
        "plt.title('Validation Loss')\n",
        "plt.xlabel('epoch')\n",
        "\n",
        "plt.savefig('loss_all_model.png')\n",
        "\n",
        "plt.show()\n"
      ],
      "metadata": {
        "colab": {
          "base_uri": "https://localhost:8080/",
          "height": 948
        },
        "id": "ewPZPpdJE2w-",
        "outputId": "9ee81144-c657-4525-b41e-a329a6803968"
      },
      "execution_count": 31,
      "outputs": [
        {
          "output_type": "display_data",
          "data": {
            "text/plain": [
              "<Figure size 1080x1152 with 2 Axes>"
            ],
            "image/png": "[encoded data removed]"
          },
          "metadata": {
            "needs_background": "light"
          }
        }
      ]
    },
    {
      "cell_type": "markdown",
      "source": [
        "## Membandingkan Metrik Evaluasi Setiap Model"
      ],
      "metadata": {
        "id": "7iQ9tR9mHSvS"
      }
    },
    {
      "cell_type": "code",
      "source": [
        "# evaluate all model\n",
        "dict_score_train = {}\n",
        "dict_score_valid = {}\n",
        "\n",
        "for modelname, modelresult in model.items():\n",
        "  dict_score_train[modelname] = modelresult.evaluate(x_train, y_train)\n",
        "  dict_score_valid[modelname] = modelresult.evaluate(x_val, y_val)"
      ],
      "metadata": {
        "colab": {
          "base_uri": "https://localhost:8080/"
        },
        "id": "x4C1rqaFFh1d",
        "outputId": "cfd477c4-d537-4952-e8ef-ddcef5496e45"
      },
      "execution_count": 32,
      "outputs": [
        {
          "output_type": "stream",
          "name": "stdout",
          "text": [
            "5205/5205 [==============================] - 14s 3ms/step - loss: 0.5394 - root_mean_squared_error: 0.1297\n",
            "579/579 [==============================] - 2s 3ms/step - loss: 0.5437 - root_mean_squared_error: 0.1351\n",
            "5205/5205 [==============================] - 14s 3ms/step - loss: 0.5432 - root_mean_squared_error: 0.1325\n",
            "579/579 [==============================] - 2s 3ms/step - loss: 0.5464 - root_mean_squared_error: 0.1361\n",
            "5205/5205 [==============================] - 15s 3ms/step - loss: 0.5379 - root_mean_squared_error: 0.1301\n",
            "579/579 [==============================] - 2s 3ms/step - loss: 0.5417 - root_mean_squared_error: 0.1345\n",
            "5205/5205 [==============================] - 14s 3ms/step - loss: 0.5386 - root_mean_squared_error: 0.1312\n",
            "579/579 [==============================] - 2s 3ms/step - loss: 0.5421 - root_mean_squared_error: 0.1351\n"
          ]
        }
      ]
    },
    {
      "cell_type": "code",
      "source": [
        "# prepare data before plot\n",
        "df1 = pd.DataFrame({\n",
        "    'Model': list_modelnames,\n",
        "    'Train': [eval[1] for eval in dict_score_train.values()],\n",
        "    'Valid': [eval[1] for eval in dict_score_valid.values()],\n",
        "})\n",
        "\n",
        "df2 = pd.DataFrame({\n",
        "    'Model': list_modelnames,\n",
        "    'Train': [eval[0] for eval in dict_score_train.values()],\n",
        "    'Valid': [eval[0] for eval in dict_score_valid.values()],\n",
        "})\n",
        "\n",
        "tidy1 = df1.melt(id_vars='Model').rename(columns=str.title)\n",
        "\n",
        "tidy2 = df2.melt(id_vars='Model').rename(columns=str.title)"
      ],
      "metadata": {
        "id": "w4n2XVYGH1VK"
      },
      "execution_count": 51,
      "outputs": []
    },
    {
      "cell_type": "code",
      "source": [
        "df2"
      ],
      "metadata": {
        "colab": {
          "base_uri": "https://localhost:8080/",
          "height": 175
        },
        "id": "Q921KPLhIrHW",
        "outputId": "c4cf18df-239e-4e01-d85e-0a2e526d41b7"
      },
      "execution_count": 52,
      "outputs": [
        {
          "output_type": "execute_result",
          "data": {
            "text/plain": [
              "     Model     Train     Valid\n",
              "0  model_1  0.539409  0.543707\n",
              "1  model_2  0.543194  0.546411\n",
              "2  model_3  0.537852  0.541684\n",
              "3  model_4  0.538575  0.542054"
            ],
            "text/html": [
              "\n",
              "  <div id=\"df-a17a2e7d-af85-4ea0-b153-2addb07c4a43\">\n",
              "    <div class=\"colab-df-container\">\n",
              "      <div>\n",
              "<style scoped>\n",
              "    .dataframe tbody tr th:only-of-type {\n",
              "        vertical-align: middle;\n",
              "    }\n",
              "\n",
              "    .dataframe tbody tr th {\n",
              "        vertical-align: top;\n",
              "    }\n",
              "\n",
              "    .dataframe thead th {\n",
              "        text-align: right;\n",
              "    }\n",
              "</style>\n",
              "<table border=\"1\" class=\"dataframe\">\n",
              "  <thead>\n",
              "    <tr style=\"text-align: right;\">\n",
              "      <th></th>\n",
              "      <th>Model</th>\n",
              "      <th>Train</th>\n",
              "      <th>Valid</th>\n",
              "    </tr>\n",
              "  </thead>\n",
              "  <tbody>\n",
              "    <tr>\n",
              "      <th>0</th>\n",
              "      <td>model_1</td>\n",
              "      <td>0.539409</td>\n",
              "      <td>0.543707</td>\n",
              "    </tr>\n",
              "    <tr>\n",
              "      <th>1</th>\n",
              "      <td>model_2</td>\n",
              "      <td>0.543194</td>\n",
              "      <td>0.546411</td>\n",
              "    </tr>\n",
              "    <tr>\n",
              "      <th>2</th>\n",
              "      <td>model_3</td>\n",
              "      <td>0.537852</td>\n",
              "      <td>0.541684</td>\n",
              "    </tr>\n",
              "    <tr>\n",
              "      <th>3</th>\n",
              "      <td>model_4</td>\n",
              "      <td>0.538575</td>\n",
              "      <td>0.542054</td>\n",
              "    </tr>\n",
              "  </tbody>\n",
              "</table>\n",
              "</div>\n",
              "      <button class=\"colab-df-convert\" onclick=\"convertToInteractive('df-a17a2e7d-af85-4ea0-b153-2addb07c4a43')\"\n",
              "              title=\"Convert this dataframe to an interactive table.\"\n",
              "              style=\"display:none;\">\n",
              "        \n",
              "  <svg xmlns=\"http://www.w3.org/2000/svg\" height=\"24px\"viewBox=\"0 0 24 24\"\n",
              "       width=\"24px\">\n",
              "    <path d=\"M0 0h24v24H0V0z\" fill=\"none\"/>\n",
              "    <path d=\"M18.56 5.44l.94 2.06.94-2.06 2.06-.94-2.06-.94-.94-2.06-.94 2.06-2.06.94zm-11 1L8.5 8.5l.94-2.06 2.06-.94-2.06-.94L8.5 2.5l-.94 2.06-2.06.94zm10 10l.94 2.06.94-2.06 2.06-.94-2.06-.94-.94-2.06-.94 2.06-2.06.94z\"/><path d=\"M17.41 7.96l-1.37-1.37c-.4-.4-.92-.59-1.43-.59-.52 0-1.04.2-1.43.59L10.3 9.45l-7.72 7.72c-.78.78-.78 2.05 0 2.83L4 21.41c.39.39.9.59 1.41.59.51 0 1.02-.2 1.41-.59l7.78-7.78 2.81-2.81c.8-.78.8-2.07 0-2.86zM5.41 20L4 18.59l7.72-7.72 1.47 1.35L5.41 20z\"/>\n",
              "  </svg>\n",
              "      </button>\n",
              "      \n",
              "  <style>\n",
              "    .colab-df-container {\n",
              "      display:flex;\n",
              "      flex-wrap:wrap;\n",
              "      gap: 12px;\n",
              "    }\n",
              "\n",
              "    .colab-df-convert {\n",
              "      background-color: #E8F0FE;\n",
              "      border: none;\n",
              "      border-radius: 50%;\n",
              "      cursor: pointer;\n",
              "      display: none;\n",
              "      fill: #1967D2;\n",
              "      height: 32px;\n",
              "      padding: 0 0 0 0;\n",
              "      width: 32px;\n",
              "    }\n",
              "\n",
              "    .colab-df-convert:hover {\n",
              "      background-color: #E2EBFA;\n",
              "      box-shadow: 0px 1px 2px rgba(60, 64, 67, 0.3), 0px 1px 3px 1px rgba(60, 64, 67, 0.15);\n",
              "      fill: #174EA6;\n",
              "    }\n",
              "\n",
              "    [theme=dark] .colab-df-convert {\n",
              "      background-color: #3B4455;\n",
              "      fill: #D2E3FC;\n",
              "    }\n",
              "\n",
              "    [theme=dark] .colab-df-convert:hover {\n",
              "      background-color: #434B5C;\n",
              "      box-shadow: 0px 1px 3px 1px rgba(0, 0, 0, 0.15);\n",
              "      filter: drop-shadow(0px 1px 2px rgba(0, 0, 0, 0.3));\n",
              "      fill: #FFFFFF;\n",
              "    }\n",
              "  </style>\n",
              "\n",
              "      <script>\n",
              "        const buttonEl =\n",
              "          document.querySelector('#df-a17a2e7d-af85-4ea0-b153-2addb07c4a43 button.colab-df-convert');\n",
              "        buttonEl.style.display =\n",
              "          google.colab.kernel.accessAllowed ? 'block' : 'none';\n",
              "\n",
              "        async function convertToInteractive(key) {\n",
              "          const element = document.querySelector('#df-a17a2e7d-af85-4ea0-b153-2addb07c4a43');\n",
              "          const dataTable =\n",
              "            await google.colab.kernel.invokeFunction('convertToInteractive',\n",
              "                                                     [key], {});\n",
              "          if (!dataTable) return;\n",
              "\n",
              "          const docLinkHtml = 'Like what you see? Visit the ' +\n",
              "            '<a target=\"_blank\" href=https://colab.research.google.com/notebooks/data_table.ipynb>data table notebook</a>'\n",
              "            + ' to learn more about interactive tables.';\n",
              "          element.innerHTML = '';\n",
              "          dataTable['output_type'] = 'display_data';\n",
              "          await google.colab.output.renderOutput(dataTable, element);\n",
              "          const docLink = document.createElement('div');\n",
              "          docLink.innerHTML = docLinkHtml;\n",
              "          element.appendChild(docLink);\n",
              "        }\n",
              "      </script>\n",
              "    </div>\n",
              "  </div>\n",
              "  "
            ]
          },
          "metadata": {},
          "execution_count": 52
        }
      ]
    },
    {
      "cell_type": "code",
      "source": [
        "# plot comparison all models evaluate\n",
        "fig, (ax1, ax2) = plt.subplots(2, 1, figsize=(10, 12))\n",
        "\n",
        "# first plot\n",
        "sns.barplot(x='Model', y='Value', hue='Variable', data=tidy1, ax=ax1)\n",
        "ax1.set_ylabel('RMSE')\n",
        "ax1.set_ylim([0.125, 0.145])\n",
        "ax1.set_title('RMSE Performance')\n",
        "\n",
        "for p, data in zip(ax1.patches, tidy1['Value']):\n",
        "    ax1.annotate(round(data, 5), xy=(p.get_x()+p.get_width()/2, p.get_height()),\n",
        "                ha='center', va='bottom')\n",
        "\n",
        "# second plot\n",
        "sns.barplot(x='Model', y='Value', hue='Variable', data=tidy2, ax=ax2)\n",
        "ax2.set_ylabel('Loss')\n",
        "ax2.set_ylim([0.53, 0.55])\n",
        "ax2.set_title('Loss Performance')\n",
        "\n",
        "for p, data in zip(ax2.patches, tidy2['Value']):\n",
        "    ax2.annotate(round(data, 5), xy=(p.get_x()+p.get_width()/2, p.get_height()),\n",
        "                ha='center', va='bottom')\n",
        "\n",
        "plt.savefig('evaluate_all_model.png')\n",
        "plt.show()"
      ],
      "metadata": {
        "colab": {
          "base_uri": "https://localhost:8080/",
          "height": 731
        },
        "id": "tN3c4mszIarl",
        "outputId": "8be6f88c-a75c-4340-aba6-b9cc8600fab7"
      },
      "execution_count": 53,
      "outputs": [
        {
          "output_type": "display_data",
          "data": {
            "text/plain": [
              "<Figure size 720x864 with 2 Axes>"
            ],
            "image/png": "[encoded data removed]"
          },
          "metadata": {
            "needs_background": "light"
          }
        }
      ]
    },
    {
      "cell_type": "markdown",
      "source": [
        "model_3 (opt: RMSprop, emb_size: 50) dipilih karena memiliki tingkat RMSE paling rendah dan loss relatif rendah"
      ],
      "metadata": {
        "id": "airK-4VUK-Zn"
      }
    },
    {
      "cell_type": "markdown",
      "source": [
        "## Mengambil Rekomendasi Satu User"
      ],
      "metadata": {
        "id": "k9nn5YhdLcps"
      }
    },
    {
      "cell_type": "code",
      "execution_count": 55,
      "metadata": {
        "id": "ynJlhEzOkBuJ"
      },
      "outputs": [],
      "source": [
        "# Mengambil sample user\n",
        "user_id = df_rating.user_id.sample(1).iloc[0]\n",
        "anime_watched_by_user = df_rating[df_rating.user_id == user_id]\n",
        " \n",
        "anime_not_watched = df_anime[~df_anime['anime_id'].isin(anime_watched_by_user.anime_id.values)]['anime_id'] \n",
        "anime_not_watched = list(\n",
        "    set(anime_not_watched)\n",
        "    .intersection(set(anime_to_anime_encoded.keys()))\n",
        ")\n",
        " \n",
        "anime_not_watched = [[anime_to_anime_encoded.get(x)] for x in anime_not_watched]\n",
        "user_encoder = user_to_user_encoded.get(user_id)\n",
        "user_anime_array = np.hstack(\n",
        "    ([[user_encoder]] * len(anime_not_watched), anime_not_watched)\n",
        ")"
      ]
    },
    {
      "cell_type": "code",
      "execution_count": 56,
      "metadata": {
        "colab": {
          "base_uri": "https://localhost:8080/"
        },
        "id": "BOkytJTTlKoq",
        "outputId": "90c37589-0221-46aa-ae38-0d940b06752a"
      },
      "outputs": [
        {
          "output_type": "stream",
          "name": "stdout",
          "text": [
            "270/270 [==============================] - 1s 2ms/step\n",
            "Showing recommendations for users: 176527\n",
            "========================================\n",
            "Top 10 anime with high ratings from user\n",
            "----------------------------------------\n",
            "Higashi no Eden (Spring 2009) : Action, Sci-Fi, Mystery, Drama, Romance, Thriller\n",
            "Toaru Kagaku no Railgun (Fall 2009) : Action, Sci-Fi, Super Power\n",
            "Deadman Wonderland (Spring 2011) : Action, Horror, Sci-Fi, Shounen, Supernatural\n",
            "Kaichou wa Maid-sama! (Spring 2010) : Comedy, Romance, School, Shoujo\n",
            "Shiki (Summer 2010) : Horror, Mystery, Supernatural, Thriller, Vampire\n",
            "Mondaiji-tachi ga Isekai kara Kuru Sou Desu yo? (Winter 2013) : Action, Comedy, Fantasy, Supernatural\n",
            "Gokukoku no Brynhildr (Spring 2014) : Drama, Mystery, Sci-Fi, Seinen\n",
            "Tokyo Ghoul (Summer 2014) : Action, Mystery, Horror, Psychological, Supernatural, Drama, Seinen\n",
            "Aldnoah.Zero 2nd Season (Winter 2015) : Action, Mecha, Sci-Fi, Space\n",
            "Ajin 2nd Season (Fall 2016) : Action, Horror, Mystery, Seinen, Supernatural\n",
            "----------------------------------------\n",
            "Top 10 anime recommendation\n",
            "----------------------------------------\n",
            "Mushishi (Fall 2005) : Adventure, Slice of Life, Mystery, Historical, Supernatural, Fantasy, Seinen\n",
            "Ginga Eiyuu Densetsu (Unknown) : Military, Sci-Fi, Space, Drama\n",
            "Clannad: After Story (Fall 2008) : Slice of Life, Comedy, Supernatural, Drama, Romance\n",
            "Fullmetal Alchemist: Brotherhood (Spring 2009) : Action, Military, Adventure, Comedy, Drama, Magic, Fantasy, Shounen\n",
            "Gintama' (Spring 2011) : Action, Sci-Fi, Comedy, Historical, Parody, Samurai, Shounen\n",
            "Hunter x Hunter (2011) (Fall 2011) : Action, Adventure, Fantasy, Shounen, Super Power\n",
            "Gintama Movie 2: Kanketsu-hen - Yorozuya yo Eien Nare (Unknown) : Action, Sci-Fi, Comedy, Historical, Parody, Samurai, Shounen\n",
            "Gintama': Enchousen (Fall 2012) : Action, Comedy, Historical, Parody, Samurai, Sci-Fi, Shounen\n",
            "Gintama° (Spring 2015) : Action, Comedy, Historical, Parody, Samurai, Sci-Fi, Shounen\n",
            "Shingeki no Kyojin Season 3 Part 2 (Spring 2019) : Action, Drama, Fantasy, Military, Mystery, Shounen, Super Power\n"
          ]
        }
      ],
      "source": [
        "ratings_predict = model[\"model_3\"].predict(user_anime_array).flatten()\n",
        " \n",
        "top_ratings_indices = ratings_predict.argsort()[-10:][::-1]\n",
        "recommended_anime_ids = [\n",
        "    anime_encoded_to_anime.get(anime_not_watched[x][0]) for x in top_ratings_indices\n",
        "]\n",
        " \n",
        "print('Showing recommendations for users: {}'.format(user_id))\n",
        "print('====' * 10)\n",
        "print('Top 10 anime with high ratings from user')\n",
        "print('----' * 10)\n",
        " \n",
        "top_anime_user = (\n",
        "    anime_watched_by_user.sort_values(\n",
        "        by = 'rating',\n",
        "        ascending=False\n",
        "    )\n",
        "    .head(10)\n",
        "    .anime_id.values\n",
        ")\n",
        " \n",
        "df_anime_rows = df_anime[df_anime['anime_id'].isin(top_anime_user)]\n",
        "for row in df_anime_rows.itertuples():\n",
        "    print(\"{} ({}) : {}\".format(row.name, row.premiered, row.genres))\n",
        " \n",
        "print('----' * 10)\n",
        "print('Top 10 anime recommendation')\n",
        "print('----' * 10)\n",
        " \n",
        "recommended_anime = df_anime[df_anime['anime_id'].isin(recommended_anime_ids)]\n",
        "for row in recommended_anime.itertuples():\n",
        "    print(\"{} ({}) : {}\".format(row.name, row.premiered, row.genres))"
      ]
    },
    {
      "cell_type": "code",
      "execution_count": 57,
      "metadata": {
        "colab": {
          "base_uri": "https://localhost:8080/",
          "height": 381
        },
        "id": "esVYf7bMmj5G",
        "outputId": "a6b21c4b-8732-47d8-ea04-02882abac13e"
      },
      "outputs": [
        {
          "output_type": "stream",
          "name": "stdout",
          "text": [
            "anime with high ratings from user\n"
          ]
        },
        {
          "output_type": "execute_result",
          "data": {
            "text/plain": [
              "      anime_id                                             name score  \\\n",
              "3276      5630                                  Higashi no Eden  7.83   \n",
              "3441      6213                          Toaru Kagaku no Railgun  7.72   \n",
              "3624      6880                               Deadman Wonderland  7.22   \n",
              "3685      7054                            Kaichou wa Maid-sama!  8.06   \n",
              "3828      7724                                            Shiki  7.79   \n",
              "5162     15315  Mondaiji-tachi ga Isekai kara Kuru Sou Desu yo?  7.56   \n",
              "5786     21431                            Gokukoku no Brynhildr  6.92   \n",
              "5886     22319                                      Tokyo Ghoul  7.81   \n",
              "6240     27655                          Aldnoah.Zero 2nd Season  6.98   \n",
              "7124     33253                                  Ajin 2nd Season  7.68   \n",
              "\n",
              "                                                 genres    premiered  \n",
              "3276  Action, Sci-Fi, Mystery, Drama, Romance, Thriller  Spring 2009  \n",
              "3441                        Action, Sci-Fi, Super Power    Fall 2009  \n",
              "3624      Action, Horror, Sci-Fi, Shounen, Supernatural  Spring 2011  \n",
              "3685                    Comedy, Romance, School, Shoujo  Spring 2010  \n",
              "3828   Horror, Mystery, Supernatural, Thriller, Vampire  Summer 2010  \n",
              "5162              Action, Comedy, Fantasy, Supernatural  Winter 2013  \n",
              "5786                     Drama, Mystery, Sci-Fi, Seinen  Spring 2014  \n",
              "5886  Action, Mystery, Horror, Psychological, Supern...  Summer 2014  \n",
              "6240                       Action, Mecha, Sci-Fi, Space  Winter 2015  \n",
              "7124      Action, Horror, Mystery, Seinen, Supernatural    Fall 2016  "
            ],
            "text/html": [
              "\n",
              "  <div id=\"df-0b28e74e-3776-417e-8bef-3751a1f1441c\">\n",
              "    <div class=\"colab-df-container\">\n",
              "      <div>\n",
              "<style scoped>\n",
              "    .dataframe tbody tr th:only-of-type {\n",
              "        vertical-align: middle;\n",
              "    }\n",
              "\n",
              "    .dataframe tbody tr th {\n",
              "        vertical-align: top;\n",
              "    }\n",
              "\n",
              "    .dataframe thead th {\n",
              "        text-align: right;\n",
              "    }\n",
              "</style>\n",
              "<table border=\"1\" class=\"dataframe\">\n",
              "  <thead>\n",
              "    <tr style=\"text-align: right;\">\n",
              "      <th></th>\n",
              "      <th>anime_id</th>\n",
              "      <th>name</th>\n",
              "      <th>score</th>\n",
              "      <th>genres</th>\n",
              "      <th>premiered</th>\n",
              "    </tr>\n",
              "  </thead>\n",
              "  <tbody>\n",
              "    <tr>\n",
              "      <th>3276</th>\n",
              "      <td>5630</td>\n",
              "      <td>Higashi no Eden</td>\n",
              "      <td>7.83</td>\n",
              "      <td>Action, Sci-Fi, Mystery, Drama, Romance, Thriller</td>\n",
              "      <td>Spring 2009</td>\n",
              "    </tr>\n",
              "    <tr>\n",
              "      <th>3441</th>\n",
              "      <td>6213</td>\n",
              "      <td>Toaru Kagaku no Railgun</td>\n",
              "      <td>7.72</td>\n",
              "      <td>Action, Sci-Fi, Super Power</td>\n",
              "      <td>Fall 2009</td>\n",
              "    </tr>\n",
              "    <tr>\n",
              "      <th>3624</th>\n",
              "      <td>6880</td>\n",
              "      <td>Deadman Wonderland</td>\n",
              "      <td>7.22</td>\n",
              "      <td>Action, Horror, Sci-Fi, Shounen, Supernatural</td>\n",
              "      <td>Spring 2011</td>\n",
              "    </tr>\n",
              "    <tr>\n",
              "      <th>3685</th>\n",
              "      <td>7054</td>\n",
              "      <td>Kaichou wa Maid-sama!</td>\n",
              "      <td>8.06</td>\n",
              "      <td>Comedy, Romance, School, Shoujo</td>\n",
              "      <td>Spring 2010</td>\n",
              "    </tr>\n",
              "    <tr>\n",
              "      <th>3828</th>\n",
              "      <td>7724</td>\n",
              "      <td>Shiki</td>\n",
              "      <td>7.79</td>\n",
              "      <td>Horror, Mystery, Supernatural, Thriller, Vampire</td>\n",
              "      <td>Summer 2010</td>\n",
              "    </tr>\n",
              "    <tr>\n",
              "      <th>5162</th>\n",
              "      <td>15315</td>\n",
              "      <td>Mondaiji-tachi ga Isekai kara Kuru Sou Desu yo?</td>\n",
              "      <td>7.56</td>\n",
              "      <td>Action, Comedy, Fantasy, Supernatural</td>\n",
              "      <td>Winter 2013</td>\n",
              "    </tr>\n",
              "    <tr>\n",
              "      <th>5786</th>\n",
              "      <td>21431</td>\n",
              "      <td>Gokukoku no Brynhildr</td>\n",
              "      <td>6.92</td>\n",
              "      <td>Drama, Mystery, Sci-Fi, Seinen</td>\n",
              "      <td>Spring 2014</td>\n",
              "    </tr>\n",
              "    <tr>\n",
              "      <th>5886</th>\n",
              "      <td>22319</td>\n",
              "      <td>Tokyo Ghoul</td>\n",
              "      <td>7.81</td>\n",
              "      <td>Action, Mystery, Horror, Psychological, Supern...</td>\n",
              "      <td>Summer 2014</td>\n",
              "    </tr>\n",
              "    <tr>\n",
              "      <th>6240</th>\n",
              "      <td>27655</td>\n",
              "      <td>Aldnoah.Zero 2nd Season</td>\n",
              "      <td>6.98</td>\n",
              "      <td>Action, Mecha, Sci-Fi, Space</td>\n",
              "      <td>Winter 2015</td>\n",
              "    </tr>\n",
              "    <tr>\n",
              "      <th>7124</th>\n",
              "      <td>33253</td>\n",
              "      <td>Ajin 2nd Season</td>\n",
              "      <td>7.68</td>\n",
              "      <td>Action, Horror, Mystery, Seinen, Supernatural</td>\n",
              "      <td>Fall 2016</td>\n",
              "    </tr>\n",
              "  </tbody>\n",
              "</table>\n",
              "</div>\n",
              "      <button class=\"colab-df-convert\" onclick=\"convertToInteractive('df-0b28e74e-3776-417e-8bef-3751a1f1441c')\"\n",
              "              title=\"Convert this dataframe to an interactive table.\"\n",
              "              style=\"display:none;\">\n",
              "        \n",
              "  <svg xmlns=\"http://www.w3.org/2000/svg\" height=\"24px\"viewBox=\"0 0 24 24\"\n",
              "       width=\"24px\">\n",
              "    <path d=\"M0 0h24v24H0V0z\" fill=\"none\"/>\n",
              "    <path d=\"M18.56 5.44l.94 2.06.94-2.06 2.06-.94-2.06-.94-.94-2.06-.94 2.06-2.06.94zm-11 1L8.5 8.5l.94-2.06 2.06-.94-2.06-.94L8.5 2.5l-.94 2.06-2.06.94zm10 10l.94 2.06.94-2.06 2.06-.94-2.06-.94-.94-2.06-.94 2.06-2.06.94z\"/><path d=\"M17.41 7.96l-1.37-1.37c-.4-.4-.92-.59-1.43-.59-.52 0-1.04.2-1.43.59L10.3 9.45l-7.72 7.72c-.78.78-.78 2.05 0 2.83L4 21.41c.39.39.9.59 1.41.59.51 0 1.02-.2 1.41-.59l7.78-7.78 2.81-2.81c.8-.78.8-2.07 0-2.86zM5.41 20L4 18.59l7.72-7.72 1.47 1.35L5.41 20z\"/>\n",
              "  </svg>\n",
              "      </button>\n",
              "      \n",
              "  <style>\n",
              "    .colab-df-container {\n",
              "      display:flex;\n",
              "      flex-wrap:wrap;\n",
              "      gap: 12px;\n",
              "    }\n",
              "\n",
              "    .colab-df-convert {\n",
              "      background-color: #E8F0FE;\n",
              "      border: none;\n",
              "      border-radius: 50%;\n",
              "      cursor: pointer;\n",
              "      display: none;\n",
              "      fill: #1967D2;\n",
              "      height: 32px;\n",
              "      padding: 0 0 0 0;\n",
              "      width: 32px;\n",
              "    }\n",
              "\n",
              "    .colab-df-convert:hover {\n",
              "      background-color: #E2EBFA;\n",
              "      box-shadow: 0px 1px 2px rgba(60, 64, 67, 0.3), 0px 1px 3px 1px rgba(60, 64, 67, 0.15);\n",
              "      fill: #174EA6;\n",
              "    }\n",
              "\n",
              "    [theme=dark] .colab-df-convert {\n",
              "      background-color: #3B4455;\n",
              "      fill: #D2E3FC;\n",
              "    }\n",
              "\n",
              "    [theme=dark] .colab-df-convert:hover {\n",
              "      background-color: #434B5C;\n",
              "      box-shadow: 0px 1px 3px 1px rgba(0, 0, 0, 0.15);\n",
              "      filter: drop-shadow(0px 1px 2px rgba(0, 0, 0, 0.3));\n",
              "      fill: #FFFFFF;\n",
              "    }\n",
              "  </style>\n",
              "\n",
              "      <script>\n",
              "        const buttonEl =\n",
              "          document.querySelector('#df-0b28e74e-3776-417e-8bef-3751a1f1441c button.colab-df-convert');\n",
              "        buttonEl.style.display =\n",
              "          google.colab.kernel.accessAllowed ? 'block' : 'none';\n",
              "\n",
              "        async function convertToInteractive(key) {\n",
              "          const element = document.querySelector('#df-0b28e74e-3776-417e-8bef-3751a1f1441c');\n",
              "          const dataTable =\n",
              "            await google.colab.kernel.invokeFunction('convertToInteractive',\n",
              "                                                     [key], {});\n",
              "          if (!dataTable) return;\n",
              "\n",
              "          const docLinkHtml = 'Like what you see? Visit the ' +\n",
              "            '<a target=\"_blank\" href=https://colab.research.google.com/notebooks/data_table.ipynb>data table notebook</a>'\n",
              "            + ' to learn more about interactive tables.';\n",
              "          element.innerHTML = '';\n",
              "          dataTable['output_type'] = 'display_data';\n",
              "          await google.colab.output.renderOutput(dataTable, element);\n",
              "          const docLink = document.createElement('div');\n",
              "          docLink.innerHTML = docLinkHtml;\n",
              "          element.appendChild(docLink);\n",
              "        }\n",
              "      </script>\n",
              "    </div>\n",
              "  </div>\n",
              "  "
            ]
          },
          "metadata": {},
          "execution_count": 57
        }
      ],
      "source": [
        "print(\"anime with high ratings from user\")\n",
        "df_anime_rows"
      ]
    },
    {
      "cell_type": "code",
      "execution_count": 58,
      "metadata": {
        "colab": {
          "base_uri": "https://localhost:8080/",
          "height": 381
        },
        "id": "SoUX7qxNnpYn",
        "outputId": "f3f2e69e-a448-45e7-9355-af2884ab20ac"
      },
      "outputs": [
        {
          "output_type": "stream",
          "name": "stdout",
          "text": [
            "Top 10 anime recommendation\n"
          ]
        },
        {
          "output_type": "execute_result",
          "data": {
            "text/plain": [
              "      anime_id                                               name score  \\\n",
              "413        457                                           Mushishi  8.69   \n",
              "708        820                               Ginga Eiyuu Densetsu  9.07   \n",
              "2852      4181                               Clannad: After Story  8.96   \n",
              "3122      5114                   Fullmetal Alchemist: Brotherhood  9.19   \n",
              "4308      9969                                           Gintama'  9.08   \n",
              "4622     11061                             Hunter x Hunter (2011)   9.1   \n",
              "5165     15335  Gintama Movie 2: Kanketsu-hen - Yorozuya yo Ei...  8.96   \n",
              "5173     15417                                Gintama': Enchousen  9.04   \n",
              "6375     28977                                           Gintama°   9.1   \n",
              "8286     38524                 Shingeki no Kyojin Season 3 Part 2   9.1   \n",
              "\n",
              "                                                 genres    premiered  \n",
              "413   Adventure, Slice of Life, Mystery, Historical,...    Fall 2005  \n",
              "708                      Military, Sci-Fi, Space, Drama      Unknown  \n",
              "2852  Slice of Life, Comedy, Supernatural, Drama, Ro...    Fall 2008  \n",
              "3122  Action, Military, Adventure, Comedy, Drama, Ma...  Spring 2009  \n",
              "4308  Action, Sci-Fi, Comedy, Historical, Parody, Sa...  Spring 2011  \n",
              "4622   Action, Adventure, Fantasy, Shounen, Super Power    Fall 2011  \n",
              "5165  Action, Sci-Fi, Comedy, Historical, Parody, Sa...      Unknown  \n",
              "5173  Action, Comedy, Historical, Parody, Samurai, S...    Fall 2012  \n",
              "6375  Action, Comedy, Historical, Parody, Samurai, S...  Spring 2015  \n",
              "8286  Action, Drama, Fantasy, Military, Mystery, Sho...  Spring 2019  "
            ],
            "text/html": [
              "\n",
              "  <div id=\"df-64d243e5-8add-441f-a640-b74f0d0c8559\">\n",
              "    <div class=\"colab-df-container\">\n",
              "      <div>\n",
              "<style scoped>\n",
              "    .dataframe tbody tr th:only-of-type {\n",
              "        vertical-align: middle;\n",
              "    }\n",
              "\n",
              "    .dataframe tbody tr th {\n",
              "        vertical-align: top;\n",
              "    }\n",
              "\n",
              "    .dataframe thead th {\n",
              "        text-align: right;\n",
              "    }\n",
              "</style>\n",
              "<table border=\"1\" class=\"dataframe\">\n",
              "  <thead>\n",
              "    <tr style=\"text-align: right;\">\n",
              "      <th></th>\n",
              "      <th>anime_id</th>\n",
              "      <th>name</th>\n",
              "      <th>score</th>\n",
              "      <th>genres</th>\n",
              "      <th>premiered</th>\n",
              "    </tr>\n",
              "  </thead>\n",
              "  <tbody>\n",
              "    <tr>\n",
              "      <th>413</th>\n",
              "      <td>457</td>\n",
              "      <td>Mushishi</td>\n",
              "      <td>8.69</td>\n",
              "      <td>Adventure, Slice of Life, Mystery, Historical,...</td>\n",
              "      <td>Fall 2005</td>\n",
              "    </tr>\n",
              "    <tr>\n",
              "      <th>708</th>\n",
              "      <td>820</td>\n",
              "      <td>Ginga Eiyuu Densetsu</td>\n",
              "      <td>9.07</td>\n",
              "      <td>Military, Sci-Fi, Space, Drama</td>\n",
              "      <td>Unknown</td>\n",
              "    </tr>\n",
              "    <tr>\n",
              "      <th>2852</th>\n",
              "      <td>4181</td>\n",
              "      <td>Clannad: After Story</td>\n",
              "      <td>8.96</td>\n",
              "      <td>Slice of Life, Comedy, Supernatural, Drama, Ro...</td>\n",
              "      <td>Fall 2008</td>\n",
              "    </tr>\n",
              "    <tr>\n",
              "      <th>3122</th>\n",
              "      <td>5114</td>\n",
              "      <td>Fullmetal Alchemist: Brotherhood</td>\n",
              "      <td>9.19</td>\n",
              "      <td>Action, Military, Adventure, Comedy, Drama, Ma...</td>\n",
              "      <td>Spring 2009</td>\n",
              "    </tr>\n",
              "    <tr>\n",
              "      <th>4308</th>\n",
              "      <td>9969</td>\n",
              "      <td>Gintama'</td>\n",
              "      <td>9.08</td>\n",
              "      <td>Action, Sci-Fi, Comedy, Historical, Parody, Sa...</td>\n",
              "      <td>Spring 2011</td>\n",
              "    </tr>\n",
              "    <tr>\n",
              "      <th>4622</th>\n",
              "      <td>11061</td>\n",
              "      <td>Hunter x Hunter (2011)</td>\n",
              "      <td>9.1</td>\n",
              "      <td>Action, Adventure, Fantasy, Shounen, Super Power</td>\n",
              "      <td>Fall 2011</td>\n",
              "    </tr>\n",
              "    <tr>\n",
              "      <th>5165</th>\n",
              "      <td>15335</td>\n",
              "      <td>Gintama Movie 2: Kanketsu-hen - Yorozuya yo Ei...</td>\n",
              "      <td>8.96</td>\n",
              "      <td>Action, Sci-Fi, Comedy, Historical, Parody, Sa...</td>\n",
              "      <td>Unknown</td>\n",
              "    </tr>\n",
              "    <tr>\n",
              "      <th>5173</th>\n",
              "      <td>15417</td>\n",
              "      <td>Gintama': Enchousen</td>\n",
              "      <td>9.04</td>\n",
              "      <td>Action, Comedy, Historical, Parody, Samurai, S...</td>\n",
              "      <td>Fall 2012</td>\n",
              "    </tr>\n",
              "    <tr>\n",
              "      <th>6375</th>\n",
              "      <td>28977</td>\n",
              "      <td>Gintama°</td>\n",
              "      <td>9.1</td>\n",
              "      <td>Action, Comedy, Historical, Parody, Samurai, S...</td>\n",
              "      <td>Spring 2015</td>\n",
              "    </tr>\n",
              "    <tr>\n",
              "      <th>8286</th>\n",
              "      <td>38524</td>\n",
              "      <td>Shingeki no Kyojin Season 3 Part 2</td>\n",
              "      <td>9.1</td>\n",
              "      <td>Action, Drama, Fantasy, Military, Mystery, Sho...</td>\n",
              "      <td>Spring 2019</td>\n",
              "    </tr>\n",
              "  </tbody>\n",
              "</table>\n",
              "</div>\n",
              "      <button class=\"colab-df-convert\" onclick=\"convertToInteractive('df-64d243e5-8add-441f-a640-b74f0d0c8559')\"\n",
              "              title=\"Convert this dataframe to an interactive table.\"\n",
              "              style=\"display:none;\">\n",
              "        \n",
              "  <svg xmlns=\"http://www.w3.org/2000/svg\" height=\"24px\"viewBox=\"0 0 24 24\"\n",
              "       width=\"24px\">\n",
              "    <path d=\"M0 0h24v24H0V0z\" fill=\"none\"/>\n",
              "    <path d=\"M18.56 5.44l.94 2.06.94-2.06 2.06-.94-2.06-.94-.94-2.06-.94 2.06-2.06.94zm-11 1L8.5 8.5l.94-2.06 2.06-.94-2.06-.94L8.5 2.5l-.94 2.06-2.06.94zm10 10l.94 2.06.94-2.06 2.06-.94-2.06-.94-.94-2.06-.94 2.06-2.06.94z\"/><path d=\"M17.41 7.96l-1.37-1.37c-.4-.4-.92-.59-1.43-.59-.52 0-1.04.2-1.43.59L10.3 9.45l-7.72 7.72c-.78.78-.78 2.05 0 2.83L4 21.41c.39.39.9.59 1.41.59.51 0 1.02-.2 1.41-.59l7.78-7.78 2.81-2.81c.8-.78.8-2.07 0-2.86zM5.41 20L4 18.59l7.72-7.72 1.47 1.35L5.41 20z\"/>\n",
              "  </svg>\n",
              "      </button>\n",
              "      \n",
              "  <style>\n",
              "    .colab-df-container {\n",
              "      display:flex;\n",
              "      flex-wrap:wrap;\n",
              "      gap: 12px;\n",
              "    }\n",
              "\n",
              "    .colab-df-convert {\n",
              "      background-color: #E8F0FE;\n",
              "      border: none;\n",
              "      border-radius: 50%;\n",
              "      cursor: pointer;\n",
              "      display: none;\n",
              "      fill: #1967D2;\n",
              "      height: 32px;\n",
              "      padding: 0 0 0 0;\n",
              "      width: 32px;\n",
              "    }\n",
              "\n",
              "    .colab-df-convert:hover {\n",
              "      background-color: #E2EBFA;\n",
              "      box-shadow: 0px 1px 2px rgba(60, 64, 67, 0.3), 0px 1px 3px 1px rgba(60, 64, 67, 0.15);\n",
              "      fill: #174EA6;\n",
              "    }\n",
              "\n",
              "    [theme=dark] .colab-df-convert {\n",
              "      background-color: #3B4455;\n",
              "      fill: #D2E3FC;\n",
              "    }\n",
              "\n",
              "    [theme=dark] .colab-df-convert:hover {\n",
              "      background-color: #434B5C;\n",
              "      box-shadow: 0px 1px 3px 1px rgba(0, 0, 0, 0.15);\n",
              "      filter: drop-shadow(0px 1px 2px rgba(0, 0, 0, 0.3));\n",
              "      fill: #FFFFFF;\n",
              "    }\n",
              "  </style>\n",
              "\n",
              "      <script>\n",
              "        const buttonEl =\n",
              "          document.querySelector('#df-64d243e5-8add-441f-a640-b74f0d0c8559 button.colab-df-convert');\n",
              "        buttonEl.style.display =\n",
              "          google.colab.kernel.accessAllowed ? 'block' : 'none';\n",
              "\n",
              "        async function convertToInteractive(key) {\n",
              "          const element = document.querySelector('#df-64d243e5-8add-441f-a640-b74f0d0c8559');\n",
              "          const dataTable =\n",
              "            await google.colab.kernel.invokeFunction('convertToInteractive',\n",
              "                                                     [key], {});\n",
              "          if (!dataTable) return;\n",
              "\n",
              "          const docLinkHtml = 'Like what you see? Visit the ' +\n",
              "            '<a target=\"_blank\" href=https://colab.research.google.com/notebooks/data_table.ipynb>data table notebook</a>'\n",
              "            + ' to learn more about interactive tables.';\n",
              "          element.innerHTML = '';\n",
              "          dataTable['output_type'] = 'display_data';\n",
              "          await google.colab.output.renderOutput(dataTable, element);\n",
              "          const docLink = document.createElement('div');\n",
              "          docLink.innerHTML = docLinkHtml;\n",
              "          element.appendChild(docLink);\n",
              "        }\n",
              "      </script>\n",
              "    </div>\n",
              "  </div>\n",
              "  "
            ]
          },
          "metadata": {},
          "execution_count": 58
        }
      ],
      "source": [
        "print(\"Top 10 anime recommendation\")\n",
        "recommended_anime"
      ]
    },
    {
      "cell_type": "markdown",
      "metadata": {
        "id": "bOvDtOkbP80K"
      },
      "source": [
        "Top genres user likes and recommendation"
      ]
    },
    {
      "cell_type": "code",
      "execution_count": 62,
      "metadata": {
        "colab": {
          "base_uri": "https://localhost:8080/",
          "height": 391
        },
        "id": "ATIFhmzkmaP9",
        "outputId": "29405f81-1d72-45e6-ef80-56889032bdec"
      },
      "outputs": [
        {
          "output_type": "display_data",
          "data": {
            "text/plain": [
              "<Figure size 648x360 with 1 Axes>"
            ],
            "image/png": "[encoded data removed]"
          },
          "metadata": {
            "needs_background": "light"
          }
        }
      ],
      "source": [
        "user_genres = []\n",
        "list_anime_genres = df_anime_rows.genres.unique()\n",
        "\n",
        "for i, v in enumerate(list_anime_genres):\n",
        "  user_genres.extend(v.split(', '))\n",
        "\n",
        "user_genres = sorted(set(user_genres))\n",
        "\n",
        "total_genre_by_user = {g: 0 for g in user_genres}\n",
        "\n",
        "for anime_genre in df_anime_rows['genres']:\n",
        "  list_anime_genre = anime_genre.split(', ')\n",
        "  for genre in list_anime_genre:\n",
        "    total_genre_by_user[genre] = total_genre_by_user[genre] + 1\n",
        "\n",
        "total_genre_by_user = dict(sorted(total_genre_by_user.items(), key=lambda x:x[1], reverse=True))\n",
        "\n",
        "plt.figure(figsize=(9,5))\n",
        "sns.barplot(x = list(total_genre_by_user.keys())[:10],\n",
        "            y = list(total_genre_by_user.values())[:10],\n",
        "            )\n",
        "plt.xticks(rotation=90)\n",
        "plt.title(\"Diagram Top 10 User Genre Anime\")\n",
        "plt.show()"
      ]
    },
    {
      "cell_type": "code",
      "execution_count": 64,
      "metadata": {
        "colab": {
          "base_uri": "https://localhost:8080/",
          "height": 377
        },
        "id": "q9UsW6uwnCgQ",
        "outputId": "15235933-5826-485e-d4a0-ec1a390b6335"
      },
      "outputs": [
        {
          "output_type": "display_data",
          "data": {
            "text/plain": [
              "<Figure size 648x360 with 1 Axes>"
            ],
            "image/png": "[encoded data removed]"
          },
          "metadata": {
            "needs_background": "light"
          }
        }
      ],
      "source": [
        "recommended_genres = []\n",
        "list_anime_genres = recommended_anime.genres.unique()\n",
        "\n",
        "for i, v in enumerate(list_anime_genres):\n",
        "  recommended_genres.extend(v.split(', '))\n",
        "\n",
        "recommended_genres = sorted(set(recommended_genres))\n",
        "\n",
        "total_genre_by_recommendation = {g: 0 for g in recommended_genres}\n",
        "\n",
        "for anime_genre in recommended_anime['genres']:\n",
        "  list_anime_genre = anime_genre.split(', ')\n",
        "  for genre in list_anime_genre:\n",
        "    total_genre_by_recommendation[genre] = total_genre_by_recommendation[genre] + 1\n",
        "\n",
        "total_genre_by_recommendation = dict(sorted(total_genre_by_recommendation.items(), key=lambda x:x[1], reverse=True))\n",
        "\n",
        "plt.figure(figsize=(9,5))\n",
        "sns.barplot(x = list(total_genre_by_recommendation.keys())[:10],\n",
        "            y = list(total_genre_by_recommendation.values())[:10],\n",
        "            )\n",
        "plt.xticks(rotation=90)\n",
        "plt.title(\"Diagram Top 10 Recommendation Genre Anime\")\n",
        "plt.show()"
      ]
    },
    {
      "cell_type": "code",
      "execution_count": null,
      "metadata": {
        "id": "yWdj49yCnyiK"
      },
      "outputs": [],
      "source": []
    }
  ],
  "metadata": {
    "colab": {
      "provenance": [],
      "collapsed_sections": [
        "nCj9IU_GrWAW",
        "pJjxfzeDyBVT",
        "NQh-SFImZXAU"
      ],
      "toc_visible": true
    },
    "kernelspec": {
      "display_name": "Python 3.7.0 ('mcds')",
      "language": "python",
      "name": "python3"
    },
    "language_info": {
      "codemirror_mode": {
        "name": "ipython",
        "version": 3
      },
      "file_extension": ".py",
      "mimetype": "text/x-python",
      "name": "python",
      "nbconvert_exporter": "python",
      "pygments_lexer": "ipython3",
      "version": "3.7.0"
    },
    "vscode": {
      "interpreter": {
        "hash": "f4a356bfd8e773102626047e5289f9bea212de93acc485ac1d4db1c668416fff"
      }
    },
    "accelerator": "GPU",
    "gpuClass": "standard"
  },
  "nbformat": 4,
  "nbformat_minor": 0
}